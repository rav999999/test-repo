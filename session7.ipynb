{
 "cells": [
  {
   "cell_type": "markdown",
   "id": "93ad08af",
   "metadata": {},
   "source": [
    "# Decorator, Exception Handling, Regular Expression"
   ]
  },
  {
   "cell_type": "markdown",
   "id": "30674a40",
   "metadata": {},
   "source": [
    "# decorator"
   ]
  },
  {
   "cell_type": "code",
   "execution_count": 1,
   "id": "31264375",
   "metadata": {},
   "outputs": [],
   "source": [
    "# (add_some_functionality(function))"
   ]
  },
  {
   "cell_type": "markdown",
   "id": "af93a151",
   "metadata": {},
   "source": [
    "function1: a+b\n",
    "\n",
    "(a+b)*c"
   ]
  },
  {
   "cell_type": "code",
   "execution_count": 12,
   "id": "86e83039",
   "metadata": {},
   "outputs": [
    {
     "data": {
      "text/plain": [
       "50"
      ]
     },
     "execution_count": 12,
     "metadata": {},
     "output_type": "execute_result"
    }
   ],
   "source": [
    "# Example:\n",
    "\n",
    "def decorate(func1):\n",
    "    def inside(a, b):\n",
    "        add = func1(a, b)\n",
    "        return add*10\n",
    "    return inside\n",
    "\n",
    "\n",
    "@decorate\n",
    "def addition(a,b):\n",
    "    return a+b # 5\n",
    "\n",
    "\n",
    "addition(2,3)"
   ]
  },
  {
   "cell_type": "code",
   "execution_count": 19,
   "id": "51fee468",
   "metadata": {},
   "outputs": [],
   "source": [
    "def decorate1(func1):\n",
    "    def inner_func():\n",
    "        print(\"Before Decorating\")\n",
    "        print(func1())\n",
    "        print(\"After Decorating\")\n",
    "        print(func1() + \" got decorated\")\n",
    "#         return inner_func\n",
    "    return inner_func\n",
    "    \n",
    "@decorate1\n",
    "def base_function():\n",
    "    return \"This is a base function\"\n"
   ]
  },
  {
   "cell_type": "code",
   "execution_count": 20,
   "id": "c780bf1b",
   "metadata": {},
   "outputs": [
    {
     "name": "stdout",
     "output_type": "stream",
     "text": [
      "Before Decorating\n",
      "This is a base function\n",
      "After Decorating\n",
      "This is a base function got decorated\n"
     ]
    }
   ],
   "source": [
    "base_function()"
   ]
  },
  {
   "cell_type": "markdown",
   "id": "c83bd9f6",
   "metadata": {},
   "source": [
    "# Exception Handling"
   ]
  },
  {
   "cell_type": "markdown",
   "id": "75873934",
   "metadata": {},
   "source": [
    "try:\n",
    "\n",
    "except:\n",
    "\n",
    "else:\n",
    "\n",
    "finally:"
   ]
  },
  {
   "cell_type": "code",
   "execution_count": 31,
   "id": "766b302c",
   "metadata": {},
   "outputs": [
    {
     "name": "stdout",
     "output_type": "stream",
     "text": [
      "This is an exception block\n"
     ]
    }
   ],
   "source": [
    "try:\n",
    "    print(\"This is a try block\"+ 4)\n",
    "except:\n",
    "    print(\"This is an exception block\")"
   ]
  },
  {
   "cell_type": "code",
   "execution_count": 30,
   "id": "50fa1265",
   "metadata": {},
   "outputs": [
    {
     "ename": "TypeError",
     "evalue": "can only concatenate str (not \"int\") to str",
     "output_type": "error",
     "traceback": [
      "\u001b[0;31m---------------------------------------------------------------------------\u001b[0m",
      "\u001b[0;31mTypeError\u001b[0m                                 Traceback (most recent call last)",
      "\u001b[0;32m<ipython-input-30-349874c52561>\u001b[0m in \u001b[0;36m<module>\u001b[0;34m\u001b[0m\n\u001b[0;32m----> 1\u001b[0;31m \u001b[0;34m\"This is a try block\"\u001b[0m \u001b[0;34m+\u001b[0m \u001b[0;36m3\u001b[0m\u001b[0;34m\u001b[0m\u001b[0;34m\u001b[0m\u001b[0m\n\u001b[0m",
      "\u001b[0;31mTypeError\u001b[0m: can only concatenate str (not \"int\") to str"
     ]
    }
   ],
   "source": [
    "\"This is a try block\" + 3"
   ]
  },
  {
   "cell_type": "code",
   "execution_count": 32,
   "id": "7af8da38",
   "metadata": {},
   "outputs": [
    {
     "name": "stdout",
     "output_type": "stream",
     "text": [
      "An error occured\n"
     ]
    }
   ],
   "source": [
    "try:\n",
    "    print(1/0)\n",
    "except:\n",
    "    print(\"An error occured\")"
   ]
  },
  {
   "cell_type": "code",
   "execution_count": 33,
   "id": "8a506c96",
   "metadata": {},
   "outputs": [
    {
     "ename": "ZeroDivisionError",
     "evalue": "division by zero",
     "output_type": "error",
     "traceback": [
      "\u001b[0;31m---------------------------------------------------------------------------\u001b[0m",
      "\u001b[0;31mZeroDivisionError\u001b[0m                         Traceback (most recent call last)",
      "\u001b[0;32m<ipython-input-33-2fc232d1511a>\u001b[0m in \u001b[0;36m<module>\u001b[0;34m\u001b[0m\n\u001b[0;32m----> 1\u001b[0;31m \u001b[0mprint\u001b[0m\u001b[0;34m(\u001b[0m\u001b[0;36m1\u001b[0m\u001b[0;34m/\u001b[0m\u001b[0;36m0\u001b[0m\u001b[0;34m)\u001b[0m\u001b[0;34m\u001b[0m\u001b[0;34m\u001b[0m\u001b[0m\n\u001b[0m",
      "\u001b[0;31mZeroDivisionError\u001b[0m: division by zero"
     ]
    }
   ],
   "source": [
    "print(1/0)"
   ]
  },
  {
   "cell_type": "code",
   "execution_count": 34,
   "id": "3c843169",
   "metadata": {},
   "outputs": [
    {
     "name": "stdout",
     "output_type": "stream",
     "text": [
      "You can't divide a value with 0\n"
     ]
    }
   ],
   "source": [
    "try:\n",
    "    print(1/0)\n",
    "except ZeroDivisionError:\n",
    "    print(\"You can't divide a value with 0\")"
   ]
  },
  {
   "cell_type": "code",
   "execution_count": 37,
   "id": "4af17cbc",
   "metadata": {},
   "outputs": [
    {
     "name": "stdout",
     "output_type": "stream",
     "text": [
      "This is a try block\n",
      "You can't divide a value with 0\n"
     ]
    }
   ],
   "source": [
    "try:\n",
    "    print(\"This is a try block\")\n",
    "    print(1/0)\n",
    "except ZeroDivisionError:\n",
    "    print(\"You can't divide a value with 0\")\n",
    "except TypeError:\n",
    "    print(\"You can't add string to a numeric vale\")"
   ]
  },
  {
   "cell_type": "code",
   "execution_count": 41,
   "id": "38fbef0d",
   "metadata": {},
   "outputs": [
    {
     "name": "stdout",
     "output_type": "stream",
     "text": [
      "Execute the try block\n",
      "Default statement executed\n"
     ]
    }
   ],
   "source": [
    "try:\n",
    "    print(\"Execute the try block\")\n",
    "except ZeroDivisionError:\n",
    "    print(\"You can't divide a value with 0\")\n",
    "except TypeError:\n",
    "    print(\"You can't add string to a numeric vale\")\n",
    "else:\n",
    "    print(\"Default statement executed\")"
   ]
  },
  {
   "cell_type": "code",
   "execution_count": 42,
   "id": "5e4ad8aa",
   "metadata": {},
   "outputs": [
    {
     "name": "stdout",
     "output_type": "stream",
     "text": [
      "Execute the try block\n",
      "Default statement executed\n",
      "FInal process is about to finish\n"
     ]
    }
   ],
   "source": [
    "try:\n",
    "    print(\"Execute the try block\")\n",
    "except ZeroDivisionError:\n",
    "    print(\"You can't divide a value with 0\")\n",
    "except TypeError:\n",
    "    print(\"You can't add string to a numeric vale\")\n",
    "else:\n",
    "    print(\"Default statement executed\")\n",
    "finally:\n",
    "    print(\"FInal process is about to finish\")"
   ]
  },
  {
   "cell_type": "markdown",
   "id": "9cb84a49",
   "metadata": {},
   "source": []
  },
  {
   "cell_type": "markdown",
   "id": "66ea958b",
   "metadata": {},
   "source": [
    "# Regular Expressions"
   ]
  },
  {
   "cell_type": "markdown",
   "id": "44b91222",
   "metadata": {},
   "source": [
    "search\n",
    "findall\n",
    "split--# yesterday\n",
    "sub"
   ]
  },
  {
   "cell_type": "code",
   "execution_count": 43,
   "id": "38fd5c0e",
   "metadata": {},
   "outputs": [],
   "source": [
    "import re"
   ]
  },
  {
   "cell_type": "markdown",
   "id": "859ef9b1",
   "metadata": {},
   "source": [
    "re methods\n",
    "- search: return the matching object from the given data <br>\n",
    "- findall: It returns a list of all the matches <br>\n",
    "- split: split the data based on the match that can be provided <br>\n",
    "- sub: Replace the matches with a proper string/data <br>"
   ]
  },
  {
   "cell_type": "code",
   "execution_count": 51,
   "id": "590cd614",
   "metadata": {},
   "outputs": [
    {
     "data": {
      "text/plain": [
       "<re.Match object; span=(1, 2), match='a'>"
      ]
     },
     "execution_count": 51,
     "metadata": {},
     "output_type": "execute_result"
    }
   ],
   "source": [
    "re.search(\"a\", \"bangalore\")"
   ]
  },
  {
   "cell_type": "code",
   "execution_count": 47,
   "id": "50161f36",
   "metadata": {},
   "outputs": [
    {
     "name": "stdout",
     "output_type": "stream",
     "text": [
      "The given string have a match\n"
     ]
    }
   ],
   "source": [
    "if occurence:\n",
    "    print(\"The given string have a match\")"
   ]
  },
  {
   "cell_type": "code",
   "execution_count": 65,
   "id": "936e3e18",
   "metadata": {},
   "outputs": [
    {
     "data": {
      "text/plain": [
       "<re.Match object; span=(13, 18), match='value'>"
      ]
     },
     "execution_count": 65,
     "metadata": {},
     "output_type": "execute_result"
    }
   ],
   "source": [
    "re.search(\"value$\", \"Zero or some value\")"
   ]
  },
  {
   "cell_type": "code",
   "execution_count": 69,
   "id": "6b22d1c1",
   "metadata": {},
   "outputs": [
    {
     "data": {
      "text/plain": [
       "['Its', 'Its']"
      ]
     },
     "execution_count": 69,
     "metadata": {},
     "output_type": "execute_result"
    }
   ],
   "source": [
    "re.findall(\"Its\", \"Its is raining now and Its normal on everyday\")"
   ]
  },
  {
   "cell_type": "code",
   "execution_count": 71,
   "id": "a4bd05ef",
   "metadata": {},
   "outputs": [
    {
     "data": {
      "text/plain": [
       "['2', '2', '2']"
      ]
     },
     "execution_count": 71,
     "metadata": {},
     "output_type": "execute_result"
    }
   ],
   "source": [
    "re.findall(\"2\", \"12341298234\")"
   ]
  },
  {
   "cell_type": "code",
   "execution_count": 75,
   "id": "b6db3463",
   "metadata": {},
   "outputs": [],
   "source": [
    "sentence = \"Python is a dynamic programming language\""
   ]
  },
  {
   "cell_type": "markdown",
   "id": "ed231d33",
   "metadata": {},
   "source": [
    "re.sub(actual, replaced, input_string)"
   ]
  },
  {
   "cell_type": "code",
   "execution_count": 78,
   "id": "0ab781e1",
   "metadata": {},
   "outputs": [],
   "source": [
    "changed_content = re.sub(\"dynamic\", 'Interpreter based', sentence)"
   ]
  },
  {
   "cell_type": "code",
   "execution_count": 79,
   "id": "659284d3",
   "metadata": {},
   "outputs": [
    {
     "data": {
      "text/plain": [
       "'Python is a Interpreter based programming language'"
      ]
     },
     "execution_count": 79,
     "metadata": {},
     "output_type": "execute_result"
    }
   ],
   "source": [
    "changed_content"
   ]
  },
  {
   "cell_type": "code",
   "execution_count": 87,
   "id": "a25afe61",
   "metadata": {},
   "outputs": [
    {
     "data": {
      "text/plain": [
       "['hello']"
      ]
     },
     "execution_count": 87,
     "metadata": {},
     "output_type": "execute_result"
    }
   ],
   "source": [
    "re.findall(\"hel.o\", 'hello')"
   ]
  },
  {
   "cell_type": "code",
   "execution_count": 88,
   "id": "d976792e",
   "metadata": {},
   "outputs": [
    {
     "data": {
      "text/plain": [
       "['The']"
      ]
     },
     "execution_count": 88,
     "metadata": {},
     "output_type": "execute_result"
    }
   ],
   "source": [
    "re.findall(\"^The\", 'The Program')"
   ]
  },
  {
   "cell_type": "code",
   "execution_count": 91,
   "id": "f626fd05",
   "metadata": {},
   "outputs": [
    {
     "data": {
      "text/plain": [
       "['instructions']"
      ]
     },
     "execution_count": 91,
     "metadata": {},
     "output_type": "execute_result"
    }
   ],
   "source": [
    "re.findall(\"instructions$\", 'The Program is a set of instructions')"
   ]
  },
  {
   "cell_type": "code",
   "execution_count": 93,
   "id": "1ae15035",
   "metadata": {},
   "outputs": [
    {
     "data": {
      "text/plain": [
       "[]"
      ]
     },
     "execution_count": 93,
     "metadata": {},
     "output_type": "execute_result"
    }
   ],
   "source": [
    "re.findall(\"l.*uage\", 'language')"
   ]
  },
  {
   "cell_type": "code",
   "execution_count": 97,
   "id": "bab22577",
   "metadata": {},
   "outputs": [
    {
     "data": {
      "text/plain": [
       "['language']"
      ]
     },
     "execution_count": 97,
     "metadata": {},
     "output_type": "execute_result"
    }
   ],
   "source": [
    "re.findall(\"lan.+uage\", 'language') # It should have one or more occurance"
   ]
  },
  {
   "cell_type": "code",
   "execution_count": 101,
   "id": "374f4560",
   "metadata": {},
   "outputs": [
    {
     "data": {
      "text/plain": [
       "['language']"
      ]
     },
     "execution_count": 101,
     "metadata": {},
     "output_type": "execute_result"
    }
   ],
   "source": [
    "re.findall(\"lan.?uage\", 'language') # It should have one or more occurance"
   ]
  },
  {
   "cell_type": "code",
   "execution_count": 104,
   "id": "76cbdf5e",
   "metadata": {},
   "outputs": [
    {
     "data": {
      "text/plain": [
       "['language']"
      ]
     },
     "execution_count": 104,
     "metadata": {},
     "output_type": "execute_result"
    }
   ],
   "source": [
    "re.findall(\"lan.{1}uage\", 'language')"
   ]
  },
  {
   "cell_type": "code",
   "execution_count": 105,
   "id": "356933fa",
   "metadata": {},
   "outputs": [
    {
     "data": {
      "text/plain": [
       "['scripting']"
      ]
     },
     "execution_count": 105,
     "metadata": {},
     "output_type": "execute_result"
    }
   ],
   "source": [
    "re.findall(\"scripting|programming\", 'Python is a scripting language')"
   ]
  },
  {
   "cell_type": "code",
   "execution_count": 106,
   "id": "83d27071",
   "metadata": {},
   "outputs": [
    {
     "data": {
      "text/plain": [
       "['programming']"
      ]
     },
     "execution_count": 106,
     "metadata": {},
     "output_type": "execute_result"
    }
   ],
   "source": [
    "re.findall(\"scripting|programming\", 'Python is a programming language')"
   ]
  },
  {
   "cell_type": "markdown",
   "id": "0aa7de83",
   "metadata": {},
   "source": [
    "- [abc]\n",
    "- [a-g]\n",
    "- [^string]\n",
    "- [23123]\n",
    "- [2-9]\n",
    "- [a-d1-3]\n"
   ]
  },
  {
   "cell_type": "markdown",
   "id": "49609cd3",
   "metadata": {},
   "source": [
    "- \\A \n",
    "- \\b\n",
    "- \\B\n",
    "- \\d\n",
    "- \\D\n",
    "- \\s\n",
    "- \\S\n",
    "- \\w\n",
    "- \\W\n",
    "- \\Z"
   ]
  },
  {
   "cell_type": "code",
   "execution_count": 126,
   "id": "6945ab25",
   "metadata": {},
   "outputs": [
    {
     "data": {
      "text/plain": [
       "['dia']"
      ]
     },
     "execution_count": 126,
     "metadata": {},
     "output_type": "execute_result"
    }
   ],
   "source": [
    "re.findall(r\"\\Bdia\", \"IT will have four day work culture in India\")"
   ]
  },
  {
   "cell_type": "code",
   "execution_count": 127,
   "id": "64d1306d",
   "metadata": {},
   "outputs": [
    {
     "data": {
      "text/plain": [
       "['1', '2', '3']"
      ]
     },
     "execution_count": 127,
     "metadata": {},
     "output_type": "execute_result"
    }
   ],
   "source": [
    "re.findall(r\"\\d\", \"IT will have four day work culture in India123\")"
   ]
  },
  {
   "cell_type": "code",
   "execution_count": 128,
   "id": "0b36f59b",
   "metadata": {},
   "outputs": [
    {
     "data": {
      "text/plain": [
       "['I',\n",
       " 'T',\n",
       " ' ',\n",
       " 'w',\n",
       " 'i',\n",
       " 'l',\n",
       " 'l',\n",
       " ' ',\n",
       " 'h',\n",
       " 'a',\n",
       " 'v',\n",
       " 'e',\n",
       " ' ',\n",
       " 'f',\n",
       " 'o',\n",
       " 'u',\n",
       " 'r',\n",
       " ' ',\n",
       " 'd',\n",
       " 'a',\n",
       " 'y',\n",
       " ' ',\n",
       " 'w',\n",
       " 'o',\n",
       " 'r',\n",
       " 'k',\n",
       " ' ',\n",
       " 'c',\n",
       " 'u',\n",
       " 'l',\n",
       " 't',\n",
       " 'u',\n",
       " 'r',\n",
       " 'e',\n",
       " ' ',\n",
       " 'i',\n",
       " 'n',\n",
       " ' ',\n",
       " 'I',\n",
       " 'n',\n",
       " 'd',\n",
       " 'i',\n",
       " 'a']"
      ]
     },
     "execution_count": 128,
     "metadata": {},
     "output_type": "execute_result"
    }
   ],
   "source": [
    "re.findall(r\"\\D\", \"IT will have four day work culture in India123\")"
   ]
  },
  {
   "cell_type": "markdown",
   "id": "83a5f817",
   "metadata": {},
   "source": [
    "?\n",
    "+ \n",
    "*\n",
    "^\n",
    "$\n",
    "[jfd]\n",
    "[^jfd]\n",
    "[a-v]\n",
    "[1-9]"
   ]
  },
  {
   "cell_type": "code",
   "execution_count": null,
   "id": "899d0df8",
   "metadata": {},
   "outputs": [],
   "source": [
    "\\A\n",
    "\\b"
   ]
  }
 ],
 "metadata": {
  "kernelspec": {
   "display_name": "Python 3",
   "language": "python",
   "name": "python3"
  },
  "language_info": {
   "codemirror_mode": {
    "name": "ipython",
    "version": 3
   },
   "file_extension": ".py",
   "mimetype": "text/x-python",
   "name": "python",
   "nbconvert_exporter": "python",
   "pygments_lexer": "ipython3",
   "version": "3.8.8"
  }
 },
 "nbformat": 4,
 "nbformat_minor": 5
}
