{
 "cells": [
  {
   "cell_type": "markdown",
   "id": "8d39171f",
   "metadata": {},
   "source": [
    "## Assignment:\n",
    "\n",
    "- args and kwargs in python\n",
    "\n",
    "- Use Linked list to create list methods\n",
    "\n",
    "- Take a directory, create multiple files with some 100 lines of text. Code should take this as input and read the directory, open each file take the first 5 lines and write into an output file.\n",
    "\n",
    "- Collection module in python (OrderedDict, Counter)\n",
    "\n",
    "- get the most frequent word other then articles, preposition and conjunctions (stop_words package in python)\n",
    "\n",
    "- Create a directory with csv files, read files using pandas and generate a single file which should have all the content and make sure each word starts with captial letter.\n",
    "\n",
    "- Note: Make sure assignments from npw end with _1"
   ]
  },
  {
   "cell_type": "code",
   "execution_count": null,
   "id": "6bb39a52",
   "metadata": {},
   "outputs": [],
   "source": [
    "csv1\n",
    "csv2\n",
    "csv3\n",
    "\n",
    "first_name, last_name, id1\n",
    "city, region, id2\n",
    "-------\n",
    "\n",
    "\n",
    "first_name, last_name, id1, city, region, id2"
   ]
  },
  {
   "cell_type": "code",
   "execution_count": null,
   "id": "82472c1c",
   "metadata": {},
   "outputs": [],
   "source": []
  },
  {
   "cell_type": "code",
   "execution_count": null,
   "id": "629a316f",
   "metadata": {},
   "outputs": [],
   "source": []
  },
  {
   "cell_type": "code",
   "execution_count": 1,
   "id": "60745298",
   "metadata": {},
   "outputs": [],
   "source": [
    "import copy"
   ]
  },
  {
   "cell_type": "code",
   "execution_count": 2,
   "id": "59afbe6d",
   "metadata": {},
   "outputs": [],
   "source": [
    "l1 = [1,2,3,4,5,6]"
   ]
  },
  {
   "cell_type": "code",
   "execution_count": 3,
   "id": "1f93f73e",
   "metadata": {},
   "outputs": [],
   "source": [
    "l2 = l1"
   ]
  },
  {
   "cell_type": "code",
   "execution_count": 4,
   "id": "36ceab69",
   "metadata": {},
   "outputs": [],
   "source": [
    "l2.remove(1)"
   ]
  },
  {
   "cell_type": "code",
   "execution_count": 5,
   "id": "caf538e6",
   "metadata": {},
   "outputs": [
    {
     "data": {
      "text/plain": [
       "[2, 3, 4, 5, 6]"
      ]
     },
     "execution_count": 5,
     "metadata": {},
     "output_type": "execute_result"
    }
   ],
   "source": [
    "l2"
   ]
  },
  {
   "cell_type": "code",
   "execution_count": 6,
   "id": "64115e2a",
   "metadata": {},
   "outputs": [
    {
     "data": {
      "text/plain": [
       "[2, 3, 4, 5, 6]"
      ]
     },
     "execution_count": 6,
     "metadata": {},
     "output_type": "execute_result"
    }
   ],
   "source": [
    "l1"
   ]
  },
  {
   "cell_type": "code",
   "execution_count": 7,
   "id": "85d529dd",
   "metadata": {},
   "outputs": [],
   "source": [
    "l3 = copy.deepcopy(l1)"
   ]
  },
  {
   "cell_type": "code",
   "execution_count": 8,
   "id": "604339e1",
   "metadata": {},
   "outputs": [
    {
     "data": {
      "text/plain": [
       "[2, 3, 4, 5, 6]"
      ]
     },
     "execution_count": 8,
     "metadata": {},
     "output_type": "execute_result"
    }
   ],
   "source": [
    "l3"
   ]
  },
  {
   "cell_type": "code",
   "execution_count": 9,
   "id": "9a9e32ae",
   "metadata": {},
   "outputs": [],
   "source": [
    "l3.remove(2)"
   ]
  },
  {
   "cell_type": "code",
   "execution_count": 10,
   "id": "b3b3aaee",
   "metadata": {},
   "outputs": [
    {
     "data": {
      "text/plain": [
       "[3, 4, 5, 6]"
      ]
     },
     "execution_count": 10,
     "metadata": {},
     "output_type": "execute_result"
    }
   ],
   "source": [
    "l3"
   ]
  },
  {
   "cell_type": "code",
   "execution_count": 11,
   "id": "5220d81f",
   "metadata": {},
   "outputs": [
    {
     "data": {
      "text/plain": [
       "[2, 3, 4, 5, 6]"
      ]
     },
     "execution_count": 11,
     "metadata": {},
     "output_type": "execute_result"
    }
   ],
   "source": [
    "l1"
   ]
  },
  {
   "cell_type": "code",
   "execution_count": 12,
   "id": "a4b41917",
   "metadata": {},
   "outputs": [],
   "source": [
    "city = 'bangalore'"
   ]
  },
  {
   "cell_type": "code",
   "execution_count": 14,
   "id": "5c36127c",
   "metadata": {},
   "outputs": [
    {
     "data": {
      "text/plain": [
       "True"
      ]
     },
     "execution_count": 14,
     "metadata": {},
     "output_type": "execute_result"
    }
   ],
   "source": [
    "city.startswith('b')"
   ]
  },
  {
   "cell_type": "code",
   "execution_count": 15,
   "id": "997c26e4",
   "metadata": {},
   "outputs": [
    {
     "data": {
      "text/plain": [
       "False"
      ]
     },
     "execution_count": 15,
     "metadata": {},
     "output_type": "execute_result"
    }
   ],
   "source": [
    "city.endswith('b')"
   ]
  },
  {
   "cell_type": "code",
   "execution_count": null,
   "id": "916f8305",
   "metadata": {},
   "outputs": [],
   "source": []
  }
 ],
 "metadata": {
  "kernelspec": {
   "display_name": "Python 3",
   "language": "python",
   "name": "python3"
  },
  "language_info": {
   "codemirror_mode": {
    "name": "ipython",
    "version": 3
   },
   "file_extension": ".py",
   "mimetype": "text/x-python",
   "name": "python",
   "nbconvert_exporter": "python",
   "pygments_lexer": "ipython3",
   "version": "3.8.8"
  }
 },
 "nbformat": 4,
 "nbformat_minor": 5
}
