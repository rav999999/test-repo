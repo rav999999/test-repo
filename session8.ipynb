{
 "cells": [
  {
   "cell_type": "markdown",
   "id": "2eda5f42",
   "metadata": {},
   "source": [
    "## OOPs concepts"
   ]
  },
  {
   "cell_type": "code",
   "execution_count": null,
   "id": "4999b8f5",
   "metadata": {},
   "outputs": [],
   "source": [
    "class ClassName:\n",
    "    class_variable = 123\n",
    "    \n",
    "    def __init__(self, var1, var2):\n",
    "        self.var1 = var1\n",
    "        self.var2 = var2\n",
    "        # instance variables\n",
    "        \n",
    "object1 = className(var1, var2)  "
   ]
  },
  {
   "cell_type": "code",
   "execution_count": 5,
   "id": "2fd75c14",
   "metadata": {},
   "outputs": [],
   "source": [
    "class Car:\n",
    "    car_count = 0 # class variable\n",
    "    \n",
    "    def __init__(self, name, cost): # Constructor or initialisation\n",
    "        self.name = name\n",
    "        self.cost = cost\n",
    "        Car.car_count += 1\n",
    "    \n",
    "    def vehicleCount(self): # Instance method\n",
    "        print(\"Vehicle count is %d\" % Car.car_count)\n",
    "    \n",
    "    def displayCarDetails(self):\n",
    "        print('Name: ', self.name, \", cost: \", self.cost)\n",
    "\n"
   ]
  },
  {
   "cell_type": "markdown",
   "id": "454288a4",
   "metadata": {},
   "source": [
    "## String Formatting"
   ]
  },
  {
   "cell_type": "code",
   "execution_count": 23,
   "id": "9da896ac",
   "metadata": {},
   "outputs": [
    {
     "name": "stdout",
     "output_type": "stream",
     "text": [
      "Name is Hari and age is 21\n"
     ]
    }
   ],
   "source": [
    "print(\"Name is {name} and age is {age}\".format(name = \"Hari\", age = 21))"
   ]
  },
  {
   "cell_type": "code",
   "execution_count": 6,
   "id": "1aed1aef",
   "metadata": {},
   "outputs": [],
   "source": [
    "# Objects of a class\n",
    "car1 = Car(\"Honda\", 12334)\n",
    "car2 = Car(\"Hyundai\", 768679)\n",
    "\n"
   ]
  },
  {
   "cell_type": "code",
   "execution_count": 7,
   "id": "93513578",
   "metadata": {},
   "outputs": [
    {
     "name": "stdout",
     "output_type": "stream",
     "text": [
      "Name:  Honda , cost:  12334\n"
     ]
    }
   ],
   "source": [
    "car1.displayCarDetails()"
   ]
  },
  {
   "cell_type": "code",
   "execution_count": 8,
   "id": "e337c201",
   "metadata": {},
   "outputs": [
    {
     "name": "stdout",
     "output_type": "stream",
     "text": [
      "Vehicle count is 2\n"
     ]
    }
   ],
   "source": [
    "car1.vehicleCount()"
   ]
  },
  {
   "cell_type": "code",
   "execution_count": 9,
   "id": "e62ed7b5",
   "metadata": {},
   "outputs": [],
   "source": [
    "car3 = Car(\"BMW\", 9874354)"
   ]
  },
  {
   "cell_type": "code",
   "execution_count": 10,
   "id": "6b4c7647",
   "metadata": {},
   "outputs": [
    {
     "name": "stdout",
     "output_type": "stream",
     "text": [
      "Name:  BMW , cost:  9874354\n"
     ]
    }
   ],
   "source": [
    "car3.displayCarDetails()"
   ]
  },
  {
   "cell_type": "code",
   "execution_count": 11,
   "id": "2017a4ad",
   "metadata": {},
   "outputs": [
    {
     "name": "stdout",
     "output_type": "stream",
     "text": [
      "Vehicle count is 3\n"
     ]
    }
   ],
   "source": [
    "car3.vehicleCount()"
   ]
  },
  {
   "cell_type": "code",
   "execution_count": 26,
   "id": "cfe8cd05",
   "metadata": {},
   "outputs": [
    {
     "data": {
      "text/plain": [
       "True"
      ]
     },
     "execution_count": 26,
     "metadata": {},
     "output_type": "execute_result"
    }
   ],
   "source": [
    "hasattr(car1, 'cost')"
   ]
  },
  {
   "cell_type": "code",
   "execution_count": 28,
   "id": "a12f9aeb",
   "metadata": {},
   "outputs": [],
   "source": [
    "setattr(car1, 'cost', 5465)"
   ]
  },
  {
   "cell_type": "code",
   "execution_count": 29,
   "id": "f808cb31",
   "metadata": {},
   "outputs": [
    {
     "data": {
      "text/plain": [
       "5465"
      ]
     },
     "execution_count": 29,
     "metadata": {},
     "output_type": "execute_result"
    }
   ],
   "source": [
    "getattr(car1, 'cost')"
   ]
  },
  {
   "cell_type": "markdown",
   "id": "6416f362",
   "metadata": {},
   "source": [
    "## Inheritance"
   ]
  },
  {
   "cell_type": "markdown",
   "id": "879ff473",
   "metadata": {},
   "source": [
    "class ChildClass(ParentClass1, ParentClass2,...): <br>\n",
    "execution is from left to right. <br>\n",
    "\n",
    "ChildClass=>ParentClass1=>ParentClass2"
   ]
  },
  {
   "cell_type": "code",
   "execution_count": 38,
   "id": "5badc5bd",
   "metadata": {},
   "outputs": [],
   "source": [
    "class ParentClass:\n",
    "    def __init__(self):\n",
    "        print(\"Parent class constructor\")\n",
    "    \n",
    "    def ParentMethod(self):\n",
    "        print(\"This is a parent method\")\n",
    "    \n",
    "    def numeric_values(self):\n",
    "        for num in range(10):\n",
    "            print(num)\n",
    "    \n",
    "    \n",
    "    \n",
    "\n",
    "\n",
    "class ChildClass(ParentClass):\n",
    "    def __init__(self):\n",
    "        print(\"Child class constructor\")\n",
    "    \n",
    "    def ChildMethod(self):\n",
    "        print(\"This is a child method\")\n",
    "    \n",
    "    def numeric_values(self): # Method overriding\n",
    "        for num in range(15):\n",
    "            print(num)\n",
    "\n"
   ]
  },
  {
   "cell_type": "code",
   "execution_count": 39,
   "id": "ad293d5b",
   "metadata": {},
   "outputs": [
    {
     "name": "stdout",
     "output_type": "stream",
     "text": [
      "Child class constructor\n",
      "This is a child method\n"
     ]
    }
   ],
   "source": [
    "child_obj = ChildClass()\n",
    "child_obj.ChildMethod()"
   ]
  },
  {
   "cell_type": "code",
   "execution_count": 40,
   "id": "28237ecb",
   "metadata": {},
   "outputs": [
    {
     "name": "stdout",
     "output_type": "stream",
     "text": [
      "This is a parent method\n"
     ]
    }
   ],
   "source": [
    "child_obj.ParentMethod()"
   ]
  },
  {
   "cell_type": "code",
   "execution_count": 41,
   "id": "b4361f93",
   "metadata": {},
   "outputs": [
    {
     "name": "stdout",
     "output_type": "stream",
     "text": [
      "0\n",
      "1\n",
      "2\n",
      "3\n",
      "4\n",
      "5\n",
      "6\n",
      "7\n",
      "8\n",
      "9\n",
      "10\n",
      "11\n",
      "12\n",
      "13\n",
      "14\n"
     ]
    }
   ],
   "source": [
    "child_obj.numeric_values()"
   ]
  },
  {
   "cell_type": "code",
   "execution_count": 44,
   "id": "b4b8030d",
   "metadata": {},
   "outputs": [],
   "source": [
    "# Method Overloading\n",
    "\n",
    "def multiply(num1, num2):\n",
    "    return num1*num2\n"
   ]
  },
  {
   "cell_type": "code",
   "execution_count": 45,
   "id": "6f4c7ef3",
   "metadata": {},
   "outputs": [
    {
     "data": {
      "text/plain": [
       "2"
      ]
     },
     "execution_count": 45,
     "metadata": {},
     "output_type": "execute_result"
    }
   ],
   "source": [
    "multiply(1,2)"
   ]
  },
  {
   "cell_type": "code",
   "execution_count": 46,
   "id": "5f781a02",
   "metadata": {},
   "outputs": [],
   "source": [
    "def multiply(num1, num2, num3):\n",
    "    return num1*num2*num3"
   ]
  },
  {
   "cell_type": "code",
   "execution_count": 47,
   "id": "c9d2748e",
   "metadata": {},
   "outputs": [
    {
     "data": {
      "text/plain": [
       "6"
      ]
     },
     "execution_count": 47,
     "metadata": {},
     "output_type": "execute_result"
    }
   ],
   "source": [
    "multiply(1, 2, 3)"
   ]
  },
  {
   "cell_type": "code",
   "execution_count": 48,
   "id": "d6ae9cb7",
   "metadata": {},
   "outputs": [],
   "source": [
    "# Private, public variables"
   ]
  },
  {
   "cell_type": "markdown",
   "id": "f7435a38",
   "metadata": {},
   "source": [
    "class Vehicle:\n",
    "    __counter = 0\n",
    "    counter\n",
    "    def count():\n",
    "        "
   ]
  },
  {
   "cell_type": "markdown",
   "id": "aa2dd1d7",
   "metadata": {},
   "source": [
    "## Overloading operators"
   ]
  },
  {
   "cell_type": "code",
   "execution_count": 57,
   "id": "b6d803c3",
   "metadata": {},
   "outputs": [],
   "source": [
    "class Arithematic:\n",
    "    def __init__(self, num1, num2):\n",
    "        self.num1 = num1\n",
    "        self.num2 = num2\n",
    "    \n",
    "    def __str__(self):\n",
    "        return 'Arithematic (%d, %d)' % (self.num1, self.num2)\n",
    "    \n",
    "    def __add__(self, some_vale):\n",
    "        return Arithematic(self.num1 + some_vale.num1, self.num2 + some_vale.num2)"
   ]
  },
  {
   "cell_type": "code",
   "execution_count": 58,
   "id": "ec473534",
   "metadata": {},
   "outputs": [],
   "source": [
    "expr1 = Arithematic(3, 5)\n",
    "expr2 = Arithematic(6, 9)"
   ]
  },
  {
   "cell_type": "code",
   "execution_count": 59,
   "id": "1f05cd99",
   "metadata": {},
   "outputs": [
    {
     "name": "stdout",
     "output_type": "stream",
     "text": [
      "Arithematic (9, 14)\n"
     ]
    }
   ],
   "source": [
    "print(expr1+expr2)"
   ]
  },
  {
   "cell_type": "code",
   "execution_count": null,
   "id": "993a10dc",
   "metadata": {},
   "outputs": [],
   "source": [
    "# Magic methods"
   ]
  }
 ],
 "metadata": {
  "kernelspec": {
   "display_name": "Python 3",
   "language": "python",
   "name": "python3"
  },
  "language_info": {
   "codemirror_mode": {
    "name": "ipython",
    "version": 3
   },
   "file_extension": ".py",
   "mimetype": "text/x-python",
   "name": "python",
   "nbconvert_exporter": "python",
   "pygments_lexer": "ipython3",
   "version": "3.8.8"
  }
 },
 "nbformat": 4,
 "nbformat_minor": 5
}
