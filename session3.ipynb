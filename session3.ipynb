{
 "cells": [
  {
   "cell_type": "markdown",
   "id": "da711fa2",
   "metadata": {},
   "source": [
    "# Conditionals"
   ]
  },
  {
   "cell_type": "markdown",
   "id": "ae537f93",
   "metadata": {},
   "source": [
    "## Note: Python executes from top to bottom and left to right"
   ]
  },
  {
   "cell_type": "markdown",
   "id": "46fcf0f6",
   "metadata": {},
   "source": [
    "#Types:\n",
    "\n",
    "if\n",
    "if else\n",
    "multiple if\n",
    "elif"
   ]
  },
  {
   "cell_type": "code",
   "execution_count": null,
   "id": "5fe83e57",
   "metadata": {},
   "outputs": [],
   "source": [
    "number = 4"
   ]
  },
  {
   "cell_type": "markdown",
   "id": "18b0ba9a",
   "metadata": {},
   "source": [
    "# elif"
   ]
  },
  {
   "cell_type": "code",
   "execution_count": null,
   "id": "586f2669",
   "metadata": {},
   "outputs": [],
   "source": [
    "if number%2 == 0:\n",
    "    print(\"This is an even number\")\n",
    "elif number%3 == 1:\n",
    "    print(\"This is an odd number\")\n",
    "elif number%4 == 0:\n",
    "    print(\"This is a multiple of 3\")\n",
    "else:\n",
    "    print(\"Above conditions are Not satisfied, so default else condition is returned\")"
   ]
  },
  {
   "cell_type": "markdown",
   "id": "fdb1decb",
   "metadata": {},
   "source": [
    "# Multiple if"
   ]
  },
  {
   "cell_type": "code",
   "execution_count": null,
   "id": "4d9e63f9",
   "metadata": {},
   "outputs": [],
   "source": [
    "if number%2 == 0:\n",
    "    print(\"This is an even number\")\n",
    "if number%3 == 1:\n",
    "    print(\"This is an odd number\")\n",
    "if number%4 == 0:\n",
    "    print(\"This is a multiple of 3\")"
   ]
  },
  {
   "cell_type": "code",
   "execution_count": null,
   "id": "65c4588c",
   "metadata": {},
   "outputs": [],
   "source": [
    "2%2"
   ]
  },
  {
   "cell_type": "code",
   "execution_count": null,
   "id": "4c932637",
   "metadata": {},
   "outputs": [],
   "source": [
    "2/2"
   ]
  },
  {
   "cell_type": "markdown",
   "id": "4a5ec156",
   "metadata": {},
   "source": [
    "2//2"
   ]
  },
  {
   "cell_type": "markdown",
   "id": "18ef29d5",
   "metadata": {},
   "source": [
    " ## Looping"
   ]
  },
  {
   "cell_type": "markdown",
   "id": "d93139ac",
   "metadata": {},
   "source": [
    "# for, while"
   ]
  },
  {
   "cell_type": "code",
   "execution_count": null,
   "id": "51b7f5f0",
   "metadata": {},
   "outputs": [],
   "source": [
    "for char in 'bangalore':\n",
    "    print(char)"
   ]
  },
  {
   "cell_type": "code",
   "execution_count": null,
   "id": "5e976bfd",
   "metadata": {},
   "outputs": [],
   "source": [
    "for num in range(1, 11):\n",
    "    print(num)"
   ]
  },
  {
   "cell_type": "code",
   "execution_count": null,
   "id": "2086bf88",
   "metadata": {},
   "outputs": [],
   "source": [
    "for num in range(1, 11):\n",
    "    if num%2 == 0:\n",
    "        print('num {} is even'.format(num)) # String formatting\n",
    "    elif num%2 == 1:\n",
    "        print('num {} is odd'.format(num))"
   ]
  },
  {
   "cell_type": "code",
   "execution_count": null,
   "id": "5ed9e4f3",
   "metadata": {},
   "outputs": [],
   "source": [
    "num = 1"
   ]
  },
  {
   "cell_type": "code",
   "execution_count": null,
   "id": "502e4583",
   "metadata": {},
   "outputs": [],
   "source": [
    "while 1 < 5:\n",
    "    print(\"before\", num)\n",
    "    num += 1\n",
    "    print(\"after\", num)"
   ]
  },
  {
   "cell_type": "code",
   "execution_count": null,
   "id": "aba4bfdc",
   "metadata": {},
   "outputs": [],
   "source": []
  },
  {
   "cell_type": "markdown",
   "id": "e66d76fe",
   "metadata": {},
   "source": [
    "# Data Structures"
   ]
  },
  {
   "cell_type": "markdown",
   "id": "d3372e84",
   "metadata": {},
   "source": [
    "# Types: list, tuple, dictionary, set"
   ]
  },
  {
   "cell_type": "markdown",
   "id": "8b680bda",
   "metadata": {},
   "source": [
    "# List:\n",
    "ordered collection of heterogeneous elements of different types\n",
    "Indexing (-ve and +ve)\n",
    "\n",
    "Mutable, means you can change the list after creating"
   ]
  },
  {
   "cell_type": "code",
   "execution_count": 2,
   "id": "86d6b265",
   "metadata": {},
   "outputs": [],
   "source": [
    "cities = ['bangalore', 'hyderabad', 'newyork', 'shangai', 'dhubhai']"
   ]
  },
  {
   "cell_type": "code",
   "execution_count": 27,
   "id": "50712af7",
   "metadata": {},
   "outputs": [
    {
     "data": {
      "text/plain": [
       "'chicago'"
      ]
     },
     "execution_count": 27,
     "metadata": {},
     "output_type": "execute_result"
    }
   ],
   "source": [
    "cities[-3]"
   ]
  },
  {
   "cell_type": "code",
   "execution_count": 10,
   "id": "8a77cfa4",
   "metadata": {},
   "outputs": [
    {
     "data": {
      "text/plain": [
       "['bangalore', 'newyork', 'dhubhai']"
      ]
     },
     "execution_count": 10,
     "metadata": {},
     "output_type": "execute_result"
    }
   ],
   "source": [
    "cities[::2]"
   ]
  },
  {
   "cell_type": "code",
   "execution_count": null,
   "id": "4189c611",
   "metadata": {},
   "outputs": [],
   "source": [
    "['hyderabad', 'newyork', 'shangai']"
   ]
  },
  {
   "cell_type": "code",
   "execution_count": null,
   "id": "634885de",
   "metadata": {},
   "outputs": [],
   "source": [
    "['bangalore', 'newyork', 'dhubhai']"
   ]
  },
  {
   "cell_type": "code",
   "execution_count": 11,
   "id": "607f36a1",
   "metadata": {},
   "outputs": [
    {
     "data": {
      "text/plain": [
       "1"
      ]
     },
     "execution_count": 11,
     "metadata": {},
     "output_type": "execute_result"
    }
   ],
   "source": [
    "cities.index('hyderabad')"
   ]
  },
  {
   "cell_type": "code",
   "execution_count": 12,
   "id": "7ce0ae21",
   "metadata": {},
   "outputs": [],
   "source": [
    "cities.append('california')"
   ]
  },
  {
   "cell_type": "code",
   "execution_count": 13,
   "id": "f85c884a",
   "metadata": {},
   "outputs": [
    {
     "data": {
      "text/plain": [
       "['bangalore', 'hyderabad', 'newyork', 'shangai', 'dhubhai', 'california']"
      ]
     },
     "execution_count": 13,
     "metadata": {},
     "output_type": "execute_result"
    }
   ],
   "source": [
    "cities"
   ]
  },
  {
   "cell_type": "code",
   "execution_count": 14,
   "id": "852e6cc8",
   "metadata": {},
   "outputs": [],
   "source": [
    "cities1 = ['chennai', 'delhi', 'san fransisco', 'chicago']"
   ]
  },
  {
   "cell_type": "code",
   "execution_count": 15,
   "id": "da7091cc",
   "metadata": {},
   "outputs": [],
   "source": [
    "cities.extend(cities1)"
   ]
  },
  {
   "cell_type": "code",
   "execution_count": 16,
   "id": "898e0aee",
   "metadata": {},
   "outputs": [
    {
     "data": {
      "text/plain": [
       "['bangalore',\n",
       " 'hyderabad',\n",
       " 'newyork',\n",
       " 'shangai',\n",
       " 'dhubhai',\n",
       " 'california',\n",
       " 'chennai',\n",
       " 'delhi',\n",
       " 'san fransisco',\n",
       " 'chicago']"
      ]
     },
     "execution_count": 16,
     "metadata": {},
     "output_type": "execute_result"
    }
   ],
   "source": [
    "cities"
   ]
  },
  {
   "cell_type": "code",
   "execution_count": 17,
   "id": "5dd29eed",
   "metadata": {},
   "outputs": [],
   "source": [
    "cities2 = ['seattle', 'Beijing', 'London', 'paris']"
   ]
  },
  {
   "cell_type": "code",
   "execution_count": 18,
   "id": "c1a4e148",
   "metadata": {},
   "outputs": [],
   "source": [
    "cities.append(cities2)"
   ]
  },
  {
   "cell_type": "code",
   "execution_count": 19,
   "id": "584adee2",
   "metadata": {},
   "outputs": [
    {
     "data": {
      "text/plain": [
       "['bangalore',\n",
       " 'hyderabad',\n",
       " 'newyork',\n",
       " 'shangai',\n",
       " 'dhubhai',\n",
       " 'california',\n",
       " 'chennai',\n",
       " 'delhi',\n",
       " 'san fransisco',\n",
       " 'chicago',\n",
       " ['seattle', 'Beijing', 'London', 'paris']]"
      ]
     },
     "execution_count": 19,
     "metadata": {},
     "output_type": "execute_result"
    }
   ],
   "source": [
    "cities"
   ]
  },
  {
   "cell_type": "code",
   "execution_count": 21,
   "id": "99d85db7",
   "metadata": {},
   "outputs": [
    {
     "data": {
      "text/plain": [
       "11"
      ]
     },
     "execution_count": 21,
     "metadata": {},
     "output_type": "execute_result"
    }
   ],
   "source": [
    "len(cities)"
   ]
  },
  {
   "cell_type": "code",
   "execution_count": 22,
   "id": "2125cf02",
   "metadata": {},
   "outputs": [],
   "source": [
    "cities.append(1)"
   ]
  },
  {
   "cell_type": "code",
   "execution_count": 23,
   "id": "5715159e",
   "metadata": {},
   "outputs": [
    {
     "data": {
      "text/plain": [
       "['bangalore',\n",
       " 'hyderabad',\n",
       " 'newyork',\n",
       " 'shangai',\n",
       " 'dhubhai',\n",
       " 'california',\n",
       " 'chennai',\n",
       " 'delhi',\n",
       " 'san fransisco',\n",
       " 'chicago',\n",
       " ['seattle', 'Beijing', 'London', 'paris'],\n",
       " 1]"
      ]
     },
     "execution_count": 23,
     "metadata": {},
     "output_type": "execute_result"
    }
   ],
   "source": [
    "cities"
   ]
  },
  {
   "cell_type": "code",
   "execution_count": 30,
   "id": "7842edbc",
   "metadata": {},
   "outputs": [
    {
     "data": {
      "text/plain": [
       "[1,\n",
       " ['seattle', 'Beijing', 'London', 'paris'],\n",
       " 'chicago',\n",
       " 'san fransisco',\n",
       " 'delhi',\n",
       " 'chennai',\n",
       " 'california',\n",
       " 'dhubhai',\n",
       " 'shangai',\n",
       " 'newyork',\n",
       " 'hyderabad',\n",
       " 'bangalore']"
      ]
     },
     "execution_count": 30,
     "metadata": {},
     "output_type": "execute_result"
    }
   ],
   "source": [
    "cities[::-1] # Reverse a string"
   ]
  },
  {
   "cell_type": "code",
   "execution_count": null,
   "id": "af634f5d",
   "metadata": {},
   "outputs": [],
   "source": [
    "positive_indexes [0,1,2,3,....]\n",
    "negative_indexes [....,-3,-2,-1]"
   ]
  },
  {
   "cell_type": "markdown",
   "id": "56a17929",
   "metadata": {},
   "source": [
    "## Tuple"
   ]
  },
  {
   "cell_type": "markdown",
   "id": "3aaba626",
   "metadata": {},
   "source": [
    "Immutable\n",
    "ordered\n",
    "heterogeneous\n",
    "it can be used as a key for dictionary"
   ]
  },
  {
   "cell_type": "code",
   "execution_count": 31,
   "id": "db54c5fa",
   "metadata": {},
   "outputs": [],
   "source": [
    "numbers = (1,2,3,4)"
   ]
  },
  {
   "cell_type": "markdown",
   "id": "be051b7a",
   "metadata": {},
   "source": [
    "## Dictionary"
   ]
  },
  {
   "cell_type": "markdown",
   "id": "c918998f",
   "metadata": {},
   "source": [
    "key value pairs\n",
    "separate with comma (,)\n",
    "key and value separate with colon (:)\n",
    "Un unordered collection of data\n",
    "the keys are immutable"
   ]
  },
  {
   "cell_type": "code",
   "execution_count": 32,
   "id": "05908b89",
   "metadata": {},
   "outputs": [],
   "source": [
    "employee_details = {'name':'Kiran',\n",
    "                   'age': 20,\n",
    "                   'salary':40000,\n",
    "                   'phone_numer': 12233442233}"
   ]
  },
  {
   "cell_type": "code",
   "execution_count": 35,
   "id": "db5db3a3",
   "metadata": {},
   "outputs": [
    {
     "data": {
      "text/plain": [
       "{'name': 'Kiran', 'age': 20, 'salary': 40000, 'phone_numer': 12233442233}"
      ]
     },
     "execution_count": 35,
     "metadata": {},
     "output_type": "execute_result"
    }
   ],
   "source": [
    "employee_details"
   ]
  },
  {
   "cell_type": "code",
   "execution_count": 34,
   "id": "39563622",
   "metadata": {},
   "outputs": [
    {
     "data": {
      "text/plain": [
       "dict"
      ]
     },
     "execution_count": 34,
     "metadata": {},
     "output_type": "execute_result"
    }
   ],
   "source": [
    "type(employee_details)"
   ]
  },
  {
   "cell_type": "code",
   "execution_count": 38,
   "id": "4335e1d0",
   "metadata": {},
   "outputs": [
    {
     "data": {
      "text/plain": [
       "'Kiran'"
      ]
     },
     "execution_count": 38,
     "metadata": {},
     "output_type": "execute_result"
    }
   ],
   "source": [
    "employee_details['name']"
   ]
  },
  {
   "cell_type": "code",
   "execution_count": 39,
   "id": "81cc366d",
   "metadata": {},
   "outputs": [
    {
     "data": {
      "text/plain": [
       "dict_keys(['name', 'age', 'salary', 'phone_numer'])"
      ]
     },
     "execution_count": 39,
     "metadata": {},
     "output_type": "execute_result"
    }
   ],
   "source": [
    "details = employee_details.keys()"
   ]
  },
  {
   "cell_type": "code",
   "execution_count": 43,
   "id": "c3c4e42a",
   "metadata": {},
   "outputs": [
    {
     "data": {
      "text/plain": [
       "dict_values"
      ]
     },
     "execution_count": 43,
     "metadata": {},
     "output_type": "execute_result"
    }
   ],
   "source": [
    "type(employee_details.values())"
   ]
  },
  {
   "cell_type": "markdown",
   "id": "85ebf951",
   "metadata": {},
   "source": [
    "Assignment:\n",
    "\n",
    "list = ['bangalore', 'hyderabad', 'newyork', 'shangai', 'dhubhai']\n",
    "1. Find the count of elements inside a list\n",
    "2. Convert each element to uppercase in a list\n",
    "3. Convert each element to lowercase in a list\n",
    "4. Convert each element to camelcase in a list\n",
    "5. Find the prime numbers from 1 to 100\n",
    "6. Print the elements staring with 'b' in a list\n",
    "7. Print the elements ending with 'i' in a list\n",
    "8. Print the alternate values from alist\n",
    "9. reverse the string"
   ]
  },
  {
   "cell_type": "code",
   "execution_count": 44,
   "id": "de71a4fd",
   "metadata": {},
   "outputs": [
    {
     "data": {
      "text/plain": [
       "'/Users/ravidevineni/Desktop/DE_Training/7_11_22/Notebooks'"
      ]
     },
     "execution_count": 44,
     "metadata": {},
     "output_type": "execute_result"
    }
   ],
   "source": [
    "pwd"
   ]
  },
  {
   "cell_type": "code",
   "execution_count": null,
   "id": "73859f6a",
   "metadata": {},
   "outputs": [],
   "source": []
  },
  {
   "cell_type": "markdown",
   "id": "b89352ec",
   "metadata": {},
   "source": [
    "## Assignment"
   ]
  },
  {
   "cell_type": "code",
   "execution_count": 45,
   "id": "f2d6bc9e",
   "metadata": {},
   "outputs": [],
   "source": [
    "cities = ['bangalore', 'hyderabad', 'newyork', 'shangai', 'dhubhai']"
   ]
  },
  {
   "cell_type": "code",
   "execution_count": 48,
   "id": "d7232df3",
   "metadata": {},
   "outputs": [
    {
     "name": "stdout",
     "output_type": "stream",
     "text": [
      "5\n"
     ]
    }
   ],
   "source": [
    "# Find the count of elements inside a list\n",
    "# len(cities)\n",
    "count = 0\n",
    "for city in cities:\n",
    "    count += 1\n",
    "\n",
    "print(count)\n"
   ]
  },
  {
   "cell_type": "code",
   "execution_count": 49,
   "id": "430455c7",
   "metadata": {},
   "outputs": [
    {
     "name": "stdout",
     "output_type": "stream",
     "text": [
      "['BANGALORE', 'HYDERABAD', 'NEWYORK', 'SHANGAI', 'DHUBHAI']\n"
     ]
    }
   ],
   "source": [
    "# Convert each element to uppercase in a list\n",
    "cities_upper = []\n",
    "\n",
    "for city in cities:\n",
    "    cities_upper.append(city.upper())\n",
    "print(cities_upper)"
   ]
  },
  {
   "cell_type": "code",
   "execution_count": 50,
   "id": "e3a73ebc",
   "metadata": {},
   "outputs": [
    {
     "name": "stdout",
     "output_type": "stream",
     "text": [
      "['bangalore', 'hyderabad', 'newyork', 'shangai', 'dhubhai']\n"
     ]
    }
   ],
   "source": [
    "# Convert each element to lowercase in a list\n",
    "cities_lower = []\n",
    "\n",
    "for city in cities:\n",
    "    cities_lower.append(city.lower())\n",
    "print(cities_lower)"
   ]
  },
  {
   "cell_type": "code",
   "execution_count": 52,
   "id": "9210c59f",
   "metadata": {},
   "outputs": [
    {
     "name": "stdout",
     "output_type": "stream",
     "text": [
      "['Boyang Qin', 'Xinrui Liu', 'Jing Liu']\n"
     ]
    }
   ],
   "source": [
    "# Convert each element to camelcase in a list\n",
    "students_camelcase = []\n",
    "students = ['Boyang qin', 'Xinrui Liu', 'Jing liu']\n",
    "for student in students:\n",
    "    students_camelcase.append(student.title())\n",
    "print(students_camelcase)"
   ]
  },
  {
   "cell_type": "code",
   "execution_count": null,
   "id": "1a6792bb",
   "metadata": {},
   "outputs": [],
   "source": [
    "# Print the elements staring with 'b' in a list\n",
    "# Print the elements ending with 'i' in a list\n",
    "# Print the alternate values from alist -- solved yesterday\n",
    "# reverse the string  -- solved yesterday"
   ]
  },
  {
   "cell_type": "code",
   "execution_count": 53,
   "id": "cde50315",
   "metadata": {},
   "outputs": [
    {
     "name": "stdout",
     "output_type": "stream",
     "text": [
      "[True, False, False, False, False]\n"
     ]
    }
   ],
   "source": [
    "cities_starts_b = []\n",
    "\n",
    "for city in cities:\n",
    "    cities_starts_b.append(city.startswith('b'))\n",
    "print(cities_starts_b)"
   ]
  },
  {
   "cell_type": "code",
   "execution_count": 56,
   "id": "b1c6885c",
   "metadata": {},
   "outputs": [
    {
     "name": "stdout",
     "output_type": "stream",
     "text": [
      "['shangai', 'dhubhai']\n"
     ]
    }
   ],
   "source": [
    "# Print the elements ending with 'i' in a list\n",
    "cities_end_i = []\n",
    "\n",
    "for city in cities:\n",
    "    if city.endswith('i'):\n",
    "        cities_end_i.append(city)\n",
    "print(cities_end_i)"
   ]
  },
  {
   "cell_type": "code",
   "execution_count": 59,
   "id": "b7f4fcfc",
   "metadata": {},
   "outputs": [],
   "source": [
    "primes = []\n",
    "for num in range(2,20):\n",
    "    for div in range(2, num):\n",
    "        if (num%div) == 0:\n",
    "            break\n",
    "    else:\n",
    "        primes.append(num)\n"
   ]
  },
  {
   "cell_type": "code",
   "execution_count": 60,
   "id": "6cc25d02",
   "metadata": {},
   "outputs": [
    {
     "name": "stdout",
     "output_type": "stream",
     "text": [
      "[2, 3, 5, 7, 11, 13, 17, 19]\n"
     ]
    }
   ],
   "source": [
    "print(primes)"
   ]
  },
  {
   "cell_type": "code",
   "execution_count": 61,
   "id": "c762ae58",
   "metadata": {},
   "outputs": [
    {
     "name": "stdout",
     "output_type": "stream",
     "text": [
      "[2, 3, 5, 7, 11, 13, 17, 19]\n"
     ]
    }
   ],
   "source": [
    "prime = []\n",
    "for num in range(2,20):\n",
    "    for div in range(2, num):\n",
    "        if (num%div) == 0:\n",
    "            break\n",
    "    else:\n",
    "        prime.append(num)\n",
    "print(prime)"
   ]
  },
  {
   "cell_type": "code",
   "execution_count": null,
   "id": "6410ed4e",
   "metadata": {},
   "outputs": [],
   "source": []
  }
 ],
 "metadata": {
  "kernelspec": {
   "display_name": "Python 3",
   "language": "python",
   "name": "python3"
  },
  "language_info": {
   "codemirror_mode": {
    "name": "ipython",
    "version": 3
   },
   "file_extension": ".py",
   "mimetype": "text/x-python",
   "name": "python",
   "nbconvert_exporter": "python",
   "pygments_lexer": "ipython3",
   "version": "3.8.8"
  }
 },
 "nbformat": 4,
 "nbformat_minor": 5
}
