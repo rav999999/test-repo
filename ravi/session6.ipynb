{
 "cells": [
  {
   "cell_type": "markdown",
   "id": "448b20e1",
   "metadata": {},
   "source": [
    "## Comprehensions"
   ]
  },
  {
   "cell_type": "code",
   "execution_count": 3,
   "id": "065194f5",
   "metadata": {},
   "outputs": [],
   "source": [
    "int_list = range(10)"
   ]
  },
  {
   "cell_type": "code",
   "execution_count": 2,
   "id": "ab7005ea",
   "metadata": {},
   "outputs": [
    {
     "name": "stdout",
     "output_type": "stream",
     "text": [
      "0\n",
      "1\n",
      "2\n",
      "3\n",
      "4\n",
      "5\n",
      "6\n",
      "7\n",
      "8\n",
      "9\n"
     ]
    }
   ],
   "source": [
    "for num in range(10):\n",
    "    print(num)"
   ]
  },
  {
   "cell_type": "code",
   "execution_count": 4,
   "id": "7aabcfef",
   "metadata": {},
   "outputs": [],
   "source": [
    "even_list = [num for num in int_list if num%2==0]"
   ]
  },
  {
   "cell_type": "code",
   "execution_count": 5,
   "id": "f2c65f3a",
   "metadata": {},
   "outputs": [
    {
     "data": {
      "text/plain": [
       "[0, 2, 4, 6, 8]"
      ]
     },
     "execution_count": 5,
     "metadata": {},
     "output_type": "execute_result"
    }
   ],
   "source": [
    "even_list"
   ]
  },
  {
   "cell_type": "code",
   "execution_count": 6,
   "id": "9b5f81de",
   "metadata": {},
   "outputs": [],
   "source": [
    "odd_list = [num for num in int_list if num%2!=0]"
   ]
  },
  {
   "cell_type": "code",
   "execution_count": 7,
   "id": "6304fd9c",
   "metadata": {},
   "outputs": [
    {
     "data": {
      "text/plain": [
       "[1, 3, 5, 7, 9]"
      ]
     },
     "execution_count": 7,
     "metadata": {},
     "output_type": "execute_result"
    }
   ],
   "source": [
    "odd_list"
   ]
  },
  {
   "cell_type": "code",
   "execution_count": 8,
   "id": "c4e0f904",
   "metadata": {},
   "outputs": [],
   "source": [
    "dict_compr = {x:x**2 for x in range(10)}"
   ]
  },
  {
   "cell_type": "code",
   "execution_count": 9,
   "id": "dbf16d9f",
   "metadata": {},
   "outputs": [
    {
     "data": {
      "text/plain": [
       "{0: 0, 1: 1, 2: 4, 3: 9, 4: 16, 5: 25, 6: 36, 7: 49, 8: 64, 9: 81}"
      ]
     },
     "execution_count": 9,
     "metadata": {},
     "output_type": "execute_result"
    }
   ],
   "source": [
    "dict_compr"
   ]
  },
  {
   "cell_type": "code",
   "execution_count": 11,
   "id": "c4a565c4",
   "metadata": {},
   "outputs": [],
   "source": [
    "dict_compr = {x:y for x,y in zip(range(10),range(10))}"
   ]
  },
  {
   "cell_type": "code",
   "execution_count": 12,
   "id": "6512e13f",
   "metadata": {},
   "outputs": [
    {
     "data": {
      "text/plain": [
       "{0: 0, 1: 1, 2: 2, 3: 3, 4: 4, 5: 5, 6: 6, 7: 7, 8: 8, 9: 9}"
      ]
     },
     "execution_count": 12,
     "metadata": {},
     "output_type": "execute_result"
    }
   ],
   "source": [
    "dict_compr"
   ]
  },
  {
   "cell_type": "markdown",
   "id": "ca8fbd48",
   "metadata": {},
   "source": [
    "## File Operations"
   ]
  },
  {
   "cell_type": "markdown",
   "id": "1446ee86",
   "metadata": {},
   "source": [
    "# It can be used to read, write and append data into different type of files"
   ]
  },
  {
   "cell_type": "markdown",
   "id": "3689b297",
   "metadata": {},
   "source": [
    "modes:\n",
    "read()\n",
    "write()\n",
    "append()"
   ]
  },
  {
   "cell_type": "code",
   "execution_count": 14,
   "id": "3c6bb97b",
   "metadata": {},
   "outputs": [],
   "source": [
    "fp = open('sample.txt', 'w') # default mode to open a file is read"
   ]
  },
  {
   "cell_type": "code",
   "execution_count": 15,
   "id": "3e393c12",
   "metadata": {},
   "outputs": [
    {
     "data": {
      "text/plain": [
       "26"
      ]
     },
     "execution_count": 15,
     "metadata": {},
     "output_type": "execute_result"
    }
   ],
   "source": [
    "fp.write(\"This is my first text file\")"
   ]
  },
  {
   "cell_type": "code",
   "execution_count": 16,
   "id": "d3ee4413",
   "metadata": {},
   "outputs": [],
   "source": [
    "fp.close()"
   ]
  },
  {
   "cell_type": "code",
   "execution_count": 17,
   "id": "289038a4",
   "metadata": {},
   "outputs": [],
   "source": [
    "fp = open('sample.txt', 'r') # default mode to open a file is read"
   ]
  },
  {
   "cell_type": "code",
   "execution_count": 18,
   "id": "84772f8d",
   "metadata": {},
   "outputs": [],
   "source": [
    "lines = fp.read()"
   ]
  },
  {
   "cell_type": "code",
   "execution_count": 19,
   "id": "39ea85b8",
   "metadata": {},
   "outputs": [
    {
     "name": "stdout",
     "output_type": "stream",
     "text": [
      "This is my first text file\n"
     ]
    }
   ],
   "source": [
    "print(lines)"
   ]
  },
  {
   "cell_type": "code",
   "execution_count": 25,
   "id": "788ce038",
   "metadata": {},
   "outputs": [],
   "source": [
    "fp = open('sample.txt', 'a') # default mode to open a file is read"
   ]
  },
  {
   "cell_type": "code",
   "execution_count": 62,
   "id": "d9e1580b",
   "metadata": {},
   "outputs": [
    {
     "ename": "AttributeError",
     "evalue": "'_io.TextIOWrapper' object has no attribute 'append'",
     "output_type": "error",
     "traceback": [
      "\u001b[0;31m---------------------------------------------------------------------------\u001b[0m",
      "\u001b[0;31mAttributeError\u001b[0m                            Traceback (most recent call last)",
      "\u001b[0;32m<ipython-input-62-342d2f76eeaf>\u001b[0m in \u001b[0;36m<module>\u001b[0;34m\u001b[0m\n\u001b[0;32m----> 1\u001b[0;31m \u001b[0mfp\u001b[0m\u001b[0;34m.\u001b[0m\u001b[0mappend\u001b[0m\u001b[0;34m(\u001b[0m\u001b[0;34m\"\\nWriting second line into the file\"\u001b[0m\u001b[0;34m)\u001b[0m\u001b[0;34m\u001b[0m\u001b[0;34m\u001b[0m\u001b[0m\n\u001b[0m",
      "\u001b[0;31mAttributeError\u001b[0m: '_io.TextIOWrapper' object has no attribute 'append'"
     ]
    }
   ],
   "source": []
  },
  {
   "cell_type": "code",
   "execution_count": 27,
   "id": "42b7679f",
   "metadata": {},
   "outputs": [],
   "source": [
    "fp.close()"
   ]
  },
  {
   "cell_type": "code",
   "execution_count": 28,
   "id": "a6885c3b",
   "metadata": {},
   "outputs": [],
   "source": [
    "fp = open('sample.txt', 'r') # default mode to open a file is read"
   ]
  },
  {
   "cell_type": "code",
   "execution_count": 29,
   "id": "1689e852",
   "metadata": {},
   "outputs": [
    {
     "name": "stdout",
     "output_type": "stream",
     "text": [
      "This is my first text fileWriting another line into the file\n",
      "\n",
      "Writing second line into the file\n"
     ]
    }
   ],
   "source": [
    "for line in fp.readlines():\n",
    "    print(line)"
   ]
  },
  {
   "cell_type": "markdown",
   "id": "6b0f0824",
   "metadata": {},
   "source": [
    "# Open file using with statement"
   ]
  },
  {
   "cell_type": "code",
   "execution_count": 30,
   "id": "67084564",
   "metadata": {},
   "outputs": [
    {
     "name": "stdout",
     "output_type": "stream",
     "text": [
      "This is my first text fileWriting another line into the file\n",
      "\n",
      "Writing second line into the file\n"
     ]
    }
   ],
   "source": [
    "with open('sample.txt') as fr1:\n",
    "    for line in fr1.readlines():\n",
    "        print(line)"
   ]
  },
  {
   "cell_type": "code",
   "execution_count": null,
   "id": "c9a9f65e",
   "metadata": {},
   "outputs": [],
   "source": []
  },
  {
   "cell_type": "markdown",
   "id": "5c9e3ead",
   "metadata": {},
   "source": [
    "## Lambda Functions"
   ]
  },
  {
   "cell_type": "code",
   "execution_count": 31,
   "id": "3c5b4df1",
   "metadata": {},
   "outputs": [],
   "source": [
    "x = lambda num: num+10"
   ]
  },
  {
   "cell_type": "code",
   "execution_count": 32,
   "id": "7a5c48f2",
   "metadata": {},
   "outputs": [
    {
     "data": {
      "text/plain": [
       "15"
      ]
     },
     "execution_count": 32,
     "metadata": {},
     "output_type": "execute_result"
    }
   ],
   "source": [
    "x(5)"
   ]
  },
  {
   "cell_type": "markdown",
   "id": "02cd99c4",
   "metadata": {},
   "source": [
    "# Lambda is nothing but an anonymous function which can take input parameteres and perform operations to provide the results"
   ]
  },
  {
   "cell_type": "code",
   "execution_count": 33,
   "id": "1f4a8f4e",
   "metadata": {},
   "outputs": [],
   "source": [
    "x = lambda num1,num2: num1 + num2"
   ]
  },
  {
   "cell_type": "code",
   "execution_count": 34,
   "id": "29554a99",
   "metadata": {},
   "outputs": [
    {
     "data": {
      "text/plain": [
       "14"
      ]
     },
     "execution_count": 34,
     "metadata": {},
     "output_type": "execute_result"
    }
   ],
   "source": [
    "x(4,10)"
   ]
  },
  {
   "cell_type": "markdown",
   "id": "8a18a33a",
   "metadata": {},
   "source": [
    "# Filter, Map and Reduce"
   ]
  },
  {
   "cell_type": "markdown",
   "id": "baf88e05",
   "metadata": {},
   "source": [
    "# Filter"
   ]
  },
  {
   "cell_type": "code",
   "execution_count": 42,
   "id": "0b3df80f",
   "metadata": {},
   "outputs": [],
   "source": [
    "even_nums = filter(lambda x:x>2, [1,2,3,4])"
   ]
  },
  {
   "cell_type": "code",
   "execution_count": 43,
   "id": "1234964b",
   "metadata": {},
   "outputs": [
    {
     "data": {
      "text/plain": [
       "<filter at 0x10319a550>"
      ]
     },
     "execution_count": 43,
     "metadata": {},
     "output_type": "execute_result"
    }
   ],
   "source": [
    "even_nums"
   ]
  },
  {
   "cell_type": "code",
   "execution_count": 44,
   "id": "ee44258b",
   "metadata": {},
   "outputs": [
    {
     "name": "stdout",
     "output_type": "stream",
     "text": [
      "3\n",
      "4\n"
     ]
    }
   ],
   "source": [
    "for x in even_nums:\n",
    "    print(x)"
   ]
  },
  {
   "cell_type": "code",
   "execution_count": 45,
   "id": "9915ca6c",
   "metadata": {},
   "outputs": [],
   "source": [
    "int_list = [1,2,3,4,5]"
   ]
  },
  {
   "cell_type": "code",
   "execution_count": 49,
   "id": "fedd308b",
   "metadata": {},
   "outputs": [],
   "source": [
    "squares = map(lambda x:x**2, int_list)"
   ]
  },
  {
   "cell_type": "code",
   "execution_count": 50,
   "id": "3a9f9d58",
   "metadata": {},
   "outputs": [
    {
     "name": "stdout",
     "output_type": "stream",
     "text": [
      "1\n",
      "4\n",
      "9\n",
      "16\n",
      "25\n"
     ]
    }
   ],
   "source": [
    "for x in squares:\n",
    "    print(x)"
   ]
  },
  {
   "cell_type": "code",
   "execution_count": 51,
   "id": "9996285d",
   "metadata": {},
   "outputs": [],
   "source": [
    "from functools import reduce"
   ]
  },
  {
   "cell_type": "code",
   "execution_count": 53,
   "id": "d892336e",
   "metadata": {},
   "outputs": [],
   "source": [
    "total = reduce((lambda x, y: x+y), [1,3,5, 10])"
   ]
  },
  {
   "cell_type": "code",
   "execution_count": 54,
   "id": "ba15126d",
   "metadata": {},
   "outputs": [
    {
     "data": {
      "text/plain": [
       "19"
      ]
     },
     "execution_count": 54,
     "metadata": {},
     "output_type": "execute_result"
    }
   ],
   "source": [
    "total"
   ]
  },
  {
   "cell_type": "code",
   "execution_count": 55,
   "id": "96dbcb9c",
   "metadata": {},
   "outputs": [],
   "source": [
    "product = reduce((lambda x, y: x*y), [1,3,5, 10])"
   ]
  },
  {
   "cell_type": "code",
   "execution_count": 56,
   "id": "d3be7b32",
   "metadata": {},
   "outputs": [
    {
     "data": {
      "text/plain": [
       "150"
      ]
     },
     "execution_count": 56,
     "metadata": {},
     "output_type": "execute_result"
    }
   ],
   "source": [
    "product"
   ]
  },
  {
   "cell_type": "markdown",
   "id": "547cdf6c",
   "metadata": {},
   "source": [
    "# Assignment\n",
    "1. get all the even numbers from a list using lambda\n",
    "2. get multiples of 3 for values inside a list using lambda\n",
    "3. filter multiples of 2 from a given list using lambda\n",
    "4. open a file and write all the details of employee like first_name, last_name, address, designation, etc.,\n",
    "5. read a file and find the most occured word --- important\n"
   ]
  },
  {
   "cell_type": "code",
   "execution_count": 57,
   "id": "b240020e",
   "metadata": {},
   "outputs": [],
   "source": [
    "sentence = \"get all the even numbers from a list using lambda\""
   ]
  },
  {
   "cell_type": "markdown",
   "id": "2f03b1df",
   "metadata": {},
   "source": [
    "## split and join functions"
   ]
  },
  {
   "cell_type": "code",
   "execution_count": 58,
   "id": "cc5398b1",
   "metadata": {},
   "outputs": [],
   "source": [
    "words = sentence.split()"
   ]
  },
  {
   "cell_type": "code",
   "execution_count": 59,
   "id": "325c4870",
   "metadata": {},
   "outputs": [
    {
     "data": {
      "text/plain": [
       "['get',\n",
       " 'all',\n",
       " 'the',\n",
       " 'even',\n",
       " 'numbers',\n",
       " 'from',\n",
       " 'a',\n",
       " 'list',\n",
       " 'using',\n",
       " 'lambda']"
      ]
     },
     "execution_count": 59,
     "metadata": {},
     "output_type": "execute_result"
    }
   ],
   "source": [
    "words"
   ]
  },
  {
   "cell_type": "code",
   "execution_count": 60,
   "id": "7169ff6b",
   "metadata": {},
   "outputs": [],
   "source": [
    "sentence1 = \" \".join(words)"
   ]
  },
  {
   "cell_type": "code",
   "execution_count": 61,
   "id": "deb716ba",
   "metadata": {},
   "outputs": [
    {
     "data": {
      "text/plain": [
       "'get all the even numbers from a list using lambda'"
      ]
     },
     "execution_count": 61,
     "metadata": {},
     "output_type": "execute_result"
    }
   ],
   "source": [
    "sentence1"
   ]
  },
  {
   "cell_type": "code",
   "execution_count": null,
   "id": "8594a050",
   "metadata": {},
   "outputs": [],
   "source": []
  },
  {
   "cell_type": "markdown",
   "id": "04e6fb94",
   "metadata": {},
   "source": [
    "# Iterator, Generator and Decorator"
   ]
  },
  {
   "cell_type": "markdown",
   "id": "3442d121",
   "metadata": {},
   "source": [
    "# Iterator"
   ]
  },
  {
   "cell_type": "code",
   "execution_count": 68,
   "id": "cc0451a4",
   "metadata": {},
   "outputs": [],
   "source": [
    "nums_list = [1,2,3,4,6,7]"
   ]
  },
  {
   "cell_type": "code",
   "execution_count": 69,
   "id": "f562cca9",
   "metadata": {},
   "outputs": [],
   "source": [
    "iterator = iter(nums_list)"
   ]
  },
  {
   "cell_type": "code",
   "execution_count": 70,
   "id": "026b040a",
   "metadata": {},
   "outputs": [
    {
     "data": {
      "text/plain": [
       "1"
      ]
     },
     "execution_count": 70,
     "metadata": {},
     "output_type": "execute_result"
    }
   ],
   "source": [
    "next(iterator)"
   ]
  },
  {
   "cell_type": "code",
   "execution_count": 71,
   "id": "1a89a9c9",
   "metadata": {},
   "outputs": [
    {
     "data": {
      "text/plain": [
       "2"
      ]
     },
     "execution_count": 71,
     "metadata": {},
     "output_type": "execute_result"
    }
   ],
   "source": [
    "next(iterator)"
   ]
  },
  {
   "cell_type": "code",
   "execution_count": 72,
   "id": "8062a61d",
   "metadata": {},
   "outputs": [
    {
     "data": {
      "text/plain": [
       "3"
      ]
     },
     "execution_count": 72,
     "metadata": {},
     "output_type": "execute_result"
    }
   ],
   "source": [
    "next(iterator)"
   ]
  },
  {
   "cell_type": "code",
   "execution_count": 73,
   "id": "6afa2b66",
   "metadata": {},
   "outputs": [
    {
     "data": {
      "text/plain": [
       "4"
      ]
     },
     "execution_count": 73,
     "metadata": {},
     "output_type": "execute_result"
    }
   ],
   "source": [
    "next(iterator)"
   ]
  },
  {
   "cell_type": "code",
   "execution_count": 74,
   "id": "470c2764",
   "metadata": {},
   "outputs": [
    {
     "data": {
      "text/plain": [
       "6"
      ]
     },
     "execution_count": 74,
     "metadata": {},
     "output_type": "execute_result"
    }
   ],
   "source": [
    "next(iterator)"
   ]
  },
  {
   "cell_type": "code",
   "execution_count": 75,
   "id": "951f83b1",
   "metadata": {},
   "outputs": [
    {
     "data": {
      "text/plain": [
       "7"
      ]
     },
     "execution_count": 75,
     "metadata": {},
     "output_type": "execute_result"
    }
   ],
   "source": [
    "next(iterator)"
   ]
  },
  {
   "cell_type": "code",
   "execution_count": 76,
   "id": "eabb0052",
   "metadata": {},
   "outputs": [
    {
     "ename": "StopIteration",
     "evalue": "",
     "output_type": "error",
     "traceback": [
      "\u001b[0;31m---------------------------------------------------------------------------\u001b[0m",
      "\u001b[0;31mStopIteration\u001b[0m                             Traceback (most recent call last)",
      "\u001b[0;32m<ipython-input-76-4ce711c44abc>\u001b[0m in \u001b[0;36m<module>\u001b[0;34m\u001b[0m\n\u001b[0;32m----> 1\u001b[0;31m \u001b[0mnext\u001b[0m\u001b[0;34m(\u001b[0m\u001b[0miterator\u001b[0m\u001b[0;34m)\u001b[0m\u001b[0;34m\u001b[0m\u001b[0;34m\u001b[0m\u001b[0m\n\u001b[0m",
      "\u001b[0;31mStopIteration\u001b[0m: "
     ]
    }
   ],
   "source": [
    "next(iterator)"
   ]
  },
  {
   "cell_type": "markdown",
   "id": "b1746963",
   "metadata": {},
   "source": [
    "# Generator"
   ]
  },
  {
   "cell_type": "code",
   "execution_count": 102,
   "id": "553f00d5",
   "metadata": {},
   "outputs": [],
   "source": [
    "def numeric_generator():\n",
    "    yield 2\n",
    "    yield 4\n",
    "    yield 5\n",
    "    yield 6\n",
    "    "
   ]
  },
  {
   "cell_type": "code",
   "execution_count": 103,
   "id": "867b674b",
   "metadata": {},
   "outputs": [],
   "source": [
    "obj = numeric_generator()"
   ]
  },
  {
   "cell_type": "code",
   "execution_count": 94,
   "id": "ece169b6",
   "metadata": {},
   "outputs": [
    {
     "name": "stdout",
     "output_type": "stream",
     "text": [
      "2\n",
      "4\n",
      "5\n",
      "6\n"
     ]
    }
   ],
   "source": [
    "for num in obj:\n",
    "    print(num)"
   ]
  },
  {
   "cell_type": "code",
   "execution_count": 104,
   "id": "a285d122",
   "metadata": {},
   "outputs": [
    {
     "data": {
      "text/plain": [
       "2"
      ]
     },
     "execution_count": 104,
     "metadata": {},
     "output_type": "execute_result"
    }
   ],
   "source": [
    "obj.__next__()"
   ]
  },
  {
   "cell_type": "code",
   "execution_count": 105,
   "id": "dc2d010b",
   "metadata": {},
   "outputs": [
    {
     "data": {
      "text/plain": [
       "4"
      ]
     },
     "execution_count": 105,
     "metadata": {},
     "output_type": "execute_result"
    }
   ],
   "source": [
    "obj.__next__()"
   ]
  },
  {
   "cell_type": "code",
   "execution_count": 106,
   "id": "bebcff46",
   "metadata": {},
   "outputs": [
    {
     "data": {
      "text/plain": [
       "5"
      ]
     },
     "execution_count": 106,
     "metadata": {},
     "output_type": "execute_result"
    }
   ],
   "source": [
    "obj.__next__()"
   ]
  },
  {
   "cell_type": "code",
   "execution_count": 107,
   "id": "6cf46003",
   "metadata": {},
   "outputs": [
    {
     "data": {
      "text/plain": [
       "6"
      ]
     },
     "execution_count": 107,
     "metadata": {},
     "output_type": "execute_result"
    }
   ],
   "source": [
    "obj.__next__()"
   ]
  },
  {
   "cell_type": "code",
   "execution_count": 108,
   "id": "297d2304",
   "metadata": {},
   "outputs": [
    {
     "ename": "StopIteration",
     "evalue": "",
     "output_type": "error",
     "traceback": [
      "\u001b[0;31m---------------------------------------------------------------------------\u001b[0m",
      "\u001b[0;31mStopIteration\u001b[0m                             Traceback (most recent call last)",
      "\u001b[0;32m<ipython-input-108-fb1646cc9850>\u001b[0m in \u001b[0;36m<module>\u001b[0;34m\u001b[0m\n\u001b[0;32m----> 1\u001b[0;31m \u001b[0mobj\u001b[0m\u001b[0;34m.\u001b[0m\u001b[0m__next__\u001b[0m\u001b[0;34m(\u001b[0m\u001b[0;34m)\u001b[0m\u001b[0;34m\u001b[0m\u001b[0;34m\u001b[0m\u001b[0m\n\u001b[0m",
      "\u001b[0;31mStopIteration\u001b[0m: "
     ]
    }
   ],
   "source": [
    "obj.__next__()"
   ]
  },
  {
   "cell_type": "markdown",
   "id": "6a3d302a",
   "metadata": {},
   "source": [
    "## Function:\n",
    "anything folled by () is nothing but a function in python"
   ]
  },
  {
   "cell_type": "code",
   "execution_count": 111,
   "id": "c8ad0196",
   "metadata": {},
   "outputs": [],
   "source": [
    "def integers(n):\n",
    "    count = 0\n",
    "    while count <= n:\n",
    "        print (count)\n",
    "        count += 1"
   ]
  },
  {
   "cell_type": "code",
   "execution_count": 112,
   "id": "dad2fdf0",
   "metadata": {},
   "outputs": [
    {
     "name": "stdout",
     "output_type": "stream",
     "text": [
      "0\n",
      "1\n",
      "2\n",
      "3\n",
      "4\n"
     ]
    }
   ],
   "source": [
    "integers(4)"
   ]
  },
  {
   "cell_type": "markdown",
   "id": "c9a8a374",
   "metadata": {},
   "source": [
    "# Tomorrow:\n",
    "Decorator\n",
    "Exception handling\n",
    "Regular Expresssion\n",
    "Oops Concepts"
   ]
  },
  {
   "cell_type": "code",
   "execution_count": null,
   "id": "a8a327ff",
   "metadata": {},
   "outputs": [],
   "source": []
  }
 ],
 "metadata": {
  "kernelspec": {
   "display_name": "Python 3",
   "language": "python",
   "name": "python3"
  },
  "language_info": {
   "codemirror_mode": {
    "name": "ipython",
    "version": 3
   },
   "file_extension": ".py",
   "mimetype": "text/x-python",
   "name": "python",
   "nbconvert_exporter": "python",
   "pygments_lexer": "ipython3",
   "version": "3.8.8"
  }
 },
 "nbformat": 4,
 "nbformat_minor": 5
}
