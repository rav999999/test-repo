{
 "cells": [
  {
   "cell_type": "code",
   "execution_count": 3,
   "id": "109296f0",
   "metadata": {},
   "outputs": [
    {
     "name": "stdout",
     "output_type": "stream",
     "text": [
      "a\n",
      "a\n"
     ]
    }
   ],
   "source": [
    "# check if a character is available in string\n",
    "\n",
    "for char in 'bangalore':\n",
    "    if char =='a': \n",
    "        print(char)"
   ]
  },
  {
   "cell_type": "code",
   "execution_count": 5,
   "id": "4fdb18cd",
   "metadata": {},
   "outputs": [
    {
     "data": {
      "text/plain": [
       "False"
      ]
     },
     "execution_count": 5,
     "metadata": {},
     "output_type": "execute_result"
    }
   ],
   "source": [
    "'a' not in 'bangalore'"
   ]
  },
  {
   "cell_type": "code",
   "execution_count": 6,
   "id": "b0ea5b4b",
   "metadata": {},
   "outputs": [
    {
     "data": {
      "text/plain": [
       "'galor'"
      ]
     },
     "execution_count": 6,
     "metadata": {},
     "output_type": "execute_result"
    }
   ],
   "source": [
    "'galor'"
   ]
  },
  {
   "cell_type": "code",
   "execution_count": 7,
   "id": "f8de412e",
   "metadata": {},
   "outputs": [
    {
     "data": {
      "text/plain": [
       "'galor'"
      ]
     },
     "execution_count": 7,
     "metadata": {},
     "output_type": "execute_result"
    }
   ],
   "source": [
    "'bangalore'[3:-1]"
   ]
  },
  {
   "cell_type": "code",
   "execution_count": 8,
   "id": "86a49170",
   "metadata": {},
   "outputs": [
    {
     "data": {
      "text/plain": [
       "True"
      ]
     },
     "execution_count": 8,
     "metadata": {},
     "output_type": "execute_result"
    }
   ],
   "source": [
    "'ang' in 'bangalore'"
   ]
  },
  {
   "cell_type": "code",
   "execution_count": 9,
   "id": "594e8c6d",
   "metadata": {},
   "outputs": [],
   "source": [
    "cities = ['bangalore', 'hyderabad', 'newyork', 'shangai', 'dhubhai']"
   ]
  },
  {
   "cell_type": "code",
   "execution_count": 10,
   "id": "e847932c",
   "metadata": {},
   "outputs": [],
   "source": [
    "cities.remove('bangalore')"
   ]
  },
  {
   "cell_type": "code",
   "execution_count": 11,
   "id": "ab16db05",
   "metadata": {},
   "outputs": [
    {
     "data": {
      "text/plain": [
       "['hyderabad', 'newyork', 'shangai', 'dhubhai']"
      ]
     },
     "execution_count": 11,
     "metadata": {},
     "output_type": "execute_result"
    }
   ],
   "source": [
    "cities"
   ]
  },
  {
   "cell_type": "code",
   "execution_count": 12,
   "id": "f881ee34",
   "metadata": {},
   "outputs": [],
   "source": [
    "cities.insert(0, 'bangalore')"
   ]
  },
  {
   "cell_type": "code",
   "execution_count": 13,
   "id": "1af90642",
   "metadata": {},
   "outputs": [
    {
     "data": {
      "text/plain": [
       "['bangalore', 'hyderabad', 'newyork', 'shangai', 'dhubhai']"
      ]
     },
     "execution_count": 13,
     "metadata": {},
     "output_type": "execute_result"
    }
   ],
   "source": [
    "cities"
   ]
  },
  {
   "cell_type": "code",
   "execution_count": 14,
   "id": "849cfa04",
   "metadata": {},
   "outputs": [
    {
     "data": {
      "text/plain": [
       "'dhubhai'"
      ]
     },
     "execution_count": 14,
     "metadata": {},
     "output_type": "execute_result"
    }
   ],
   "source": [
    "cities.pop()"
   ]
  },
  {
   "cell_type": "code",
   "execution_count": 15,
   "id": "5122c6b2",
   "metadata": {},
   "outputs": [
    {
     "data": {
      "text/plain": [
       "['bangalore', 'hyderabad', 'newyork', 'shangai']"
      ]
     },
     "execution_count": 15,
     "metadata": {},
     "output_type": "execute_result"
    }
   ],
   "source": [
    "cities"
   ]
  },
  {
   "cell_type": "code",
   "execution_count": 16,
   "id": "fb44c696",
   "metadata": {},
   "outputs": [],
   "source": [
    "cities1 = ['chennai', 'paris']"
   ]
  },
  {
   "cell_type": "code",
   "execution_count": 17,
   "id": "97fc38d7",
   "metadata": {},
   "outputs": [
    {
     "data": {
      "text/plain": [
       "['bangalore', 'hyderabad', 'newyork', 'shangai', 'chennai', 'paris']"
      ]
     },
     "execution_count": 17,
     "metadata": {},
     "output_type": "execute_result"
    }
   ],
   "source": [
    "cities + cities1"
   ]
  },
  {
   "cell_type": "code",
   "execution_count": 19,
   "id": "b9b8a570",
   "metadata": {},
   "outputs": [],
   "source": [
    "cities.append('chennai')\n"
   ]
  },
  {
   "cell_type": "code",
   "execution_count": 20,
   "id": "8ec2f4ed",
   "metadata": {},
   "outputs": [
    {
     "data": {
      "text/plain": [
       "['bangalore', 'hyderabad', 'newyork', 'shangai', 'chennai']"
      ]
     },
     "execution_count": 20,
     "metadata": {},
     "output_type": "execute_result"
    }
   ],
   "source": [
    "cities"
   ]
  },
  {
   "cell_type": "code",
   "execution_count": 21,
   "id": "f7c20e42",
   "metadata": {},
   "outputs": [],
   "source": [
    "cities.sort()"
   ]
  },
  {
   "cell_type": "code",
   "execution_count": 23,
   "id": "1d7d8ac8",
   "metadata": {},
   "outputs": [
    {
     "data": {
      "text/plain": [
       "['shangai', 'newyork', 'hyderabad', 'chennai', 'bangalore']"
      ]
     },
     "execution_count": 23,
     "metadata": {},
     "output_type": "execute_result"
    }
   ],
   "source": [
    "cities[::-1]"
   ]
  },
  {
   "cell_type": "code",
   "execution_count": 24,
   "id": "bbcf680a",
   "metadata": {},
   "outputs": [],
   "source": [
    "# Tuples"
   ]
  },
  {
   "cell_type": "code",
   "execution_count": 25,
   "id": "2d9334a9",
   "metadata": {},
   "outputs": [],
   "source": [
    "# Assignment: copy and deepcopy"
   ]
  },
  {
   "cell_type": "code",
   "execution_count": 40,
   "id": "94e9b5f0",
   "metadata": {},
   "outputs": [],
   "source": [
    "bowlers = ('bhuvi', 'bumrah', 'chahal')"
   ]
  },
  {
   "cell_type": "code",
   "execution_count": 41,
   "id": "80b21124",
   "metadata": {},
   "outputs": [],
   "source": [
    "bowlers1 = ('sardhul',)"
   ]
  },
  {
   "cell_type": "code",
   "execution_count": 42,
   "id": "628deb3e",
   "metadata": {},
   "outputs": [],
   "source": [
    "bowlers += bowlers1"
   ]
  },
  {
   "cell_type": "code",
   "execution_count": 33,
   "id": "79144ba6",
   "metadata": {},
   "outputs": [
    {
     "data": {
      "text/plain": [
       "['bhuvi', 'bumrah', 'chahal', 'sardhul']"
      ]
     },
     "execution_count": 33,
     "metadata": {},
     "output_type": "execute_result"
    }
   ],
   "source": [
    "bowlers"
   ]
  },
  {
   "cell_type": "code",
   "execution_count": 43,
   "id": "deeac121",
   "metadata": {},
   "outputs": [],
   "source": [
    "(one, two, three, four) = bowlers"
   ]
  },
  {
   "cell_type": "code",
   "execution_count": 44,
   "id": "62b2c5d6",
   "metadata": {},
   "outputs": [
    {
     "data": {
      "text/plain": [
       "'bhuvi'"
      ]
     },
     "execution_count": 44,
     "metadata": {},
     "output_type": "execute_result"
    }
   ],
   "source": [
    "one"
   ]
  },
  {
   "cell_type": "code",
   "execution_count": 45,
   "id": "10e92c7a",
   "metadata": {},
   "outputs": [],
   "source": [
    "# SET"
   ]
  },
  {
   "cell_type": "code",
   "execution_count": 46,
   "id": "c9728a64",
   "metadata": {},
   "outputs": [],
   "source": [
    "#set: unordered, unique, unindexed"
   ]
  },
  {
   "cell_type": "code",
   "execution_count": 47,
   "id": "5d6d4d4d",
   "metadata": {},
   "outputs": [],
   "source": [
    "cricketers = {'virat', 'rohit', 'sachin'}"
   ]
  },
  {
   "cell_type": "code",
   "execution_count": 48,
   "id": "9164ebc8",
   "metadata": {},
   "outputs": [
    {
     "data": {
      "text/plain": [
       "{'rohit', 'sachin', 'virat'}"
      ]
     },
     "execution_count": 48,
     "metadata": {},
     "output_type": "execute_result"
    }
   ],
   "source": [
    "cricketers"
   ]
  },
  {
   "cell_type": "code",
   "execution_count": 49,
   "id": "5d12ff8c",
   "metadata": {},
   "outputs": [
    {
     "data": {
      "text/plain": [
       "set"
      ]
     },
     "execution_count": 49,
     "metadata": {},
     "output_type": "execute_result"
    }
   ],
   "source": [
    "type(cricketers)"
   ]
  },
  {
   "cell_type": "code",
   "execution_count": 50,
   "id": "0ac3b386",
   "metadata": {},
   "outputs": [],
   "source": [
    "cricketers = {'virat', 'rohit', 'sachin', 'virat'}"
   ]
  },
  {
   "cell_type": "code",
   "execution_count": 51,
   "id": "b2b407c6",
   "metadata": {},
   "outputs": [
    {
     "data": {
      "text/plain": [
       "{'rohit', 'sachin', 'virat'}"
      ]
     },
     "execution_count": 51,
     "metadata": {},
     "output_type": "execute_result"
    }
   ],
   "source": [
    "cricketers"
   ]
  },
  {
   "cell_type": "code",
   "execution_count": 52,
   "id": "3ab9f540",
   "metadata": {},
   "outputs": [],
   "source": [
    "cricketers = {'virat', 'rohit', 'sachin', 'Virat'}"
   ]
  },
  {
   "cell_type": "code",
   "execution_count": 53,
   "id": "8993ddd5",
   "metadata": {},
   "outputs": [
    {
     "data": {
      "text/plain": [
       "{'Virat', 'rohit', 'sachin', 'virat'}"
      ]
     },
     "execution_count": 53,
     "metadata": {},
     "output_type": "execute_result"
    }
   ],
   "source": [
    "cricketers"
   ]
  },
  {
   "cell_type": "code",
   "execution_count": 54,
   "id": "632cdf9e",
   "metadata": {},
   "outputs": [
    {
     "name": "stdout",
     "output_type": "stream",
     "text": [
      "rohit\n",
      "sachin\n",
      "virat\n",
      "Virat\n"
     ]
    }
   ],
   "source": [
    "for player in cricketers:\n",
    "    print(player)"
   ]
  },
  {
   "cell_type": "code",
   "execution_count": 55,
   "id": "e5aa3baa",
   "metadata": {},
   "outputs": [],
   "source": [
    "cricketers.add('kishan')"
   ]
  },
  {
   "cell_type": "code",
   "execution_count": 56,
   "id": "ea16a5a9",
   "metadata": {},
   "outputs": [
    {
     "data": {
      "text/plain": [
       "{'Virat', 'kishan', 'rohit', 'sachin', 'virat'}"
      ]
     },
     "execution_count": 56,
     "metadata": {},
     "output_type": "execute_result"
    }
   ],
   "source": [
    "cricketers"
   ]
  },
  {
   "cell_type": "code",
   "execution_count": 57,
   "id": "78a89408",
   "metadata": {},
   "outputs": [],
   "source": [
    "cricketers.remove('kishan')"
   ]
  },
  {
   "cell_type": "code",
   "execution_count": 58,
   "id": "d3865bdf",
   "metadata": {},
   "outputs": [
    {
     "data": {
      "text/plain": [
       "{'Virat', 'rohit', 'sachin', 'virat'}"
      ]
     },
     "execution_count": 58,
     "metadata": {},
     "output_type": "execute_result"
    }
   ],
   "source": [
    "cricketers"
   ]
  },
  {
   "cell_type": "code",
   "execution_count": 60,
   "id": "bcb44847",
   "metadata": {},
   "outputs": [],
   "source": [
    "bowlers = {'bhuvi', 'bumrah', 'chahal', 'jadeja'}"
   ]
  },
  {
   "cell_type": "code",
   "execution_count": 61,
   "id": "734bef74",
   "metadata": {},
   "outputs": [],
   "source": [
    "batsmen = {'jadeja', 'virat', 'rohit', 'sachin'}"
   ]
  },
  {
   "cell_type": "code",
   "execution_count": 62,
   "id": "3675fc97",
   "metadata": {},
   "outputs": [],
   "source": [
    "all_rounder = bowlers.intersection(batsmen)"
   ]
  },
  {
   "cell_type": "code",
   "execution_count": 63,
   "id": "d8c07bb1",
   "metadata": {},
   "outputs": [
    {
     "data": {
      "text/plain": [
       "{'jadeja'}"
      ]
     },
     "execution_count": 63,
     "metadata": {},
     "output_type": "execute_result"
    }
   ],
   "source": [
    "all_rounder"
   ]
  },
  {
   "cell_type": "code",
   "execution_count": 64,
   "id": "a4a8c187",
   "metadata": {},
   "outputs": [],
   "source": [
    "players = bowlers.union(batsmen)"
   ]
  },
  {
   "cell_type": "code",
   "execution_count": 65,
   "id": "e29810bb",
   "metadata": {},
   "outputs": [
    {
     "data": {
      "text/plain": [
       "{'bhuvi', 'bumrah', 'chahal', 'jadeja', 'rohit', 'sachin', 'virat'}"
      ]
     },
     "execution_count": 65,
     "metadata": {},
     "output_type": "execute_result"
    }
   ],
   "source": [
    "players"
   ]
  },
  {
   "cell_type": "code",
   "execution_count": 66,
   "id": "1250dcf8",
   "metadata": {},
   "outputs": [],
   "source": [
    "# Assigment: List all methods of set with an example"
   ]
  },
  {
   "cell_type": "code",
   "execution_count": 67,
   "id": "034f00af",
   "metadata": {},
   "outputs": [],
   "source": [
    "# COmprehensions"
   ]
  },
  {
   "cell_type": "code",
   "execution_count": 68,
   "id": "a1cb6875",
   "metadata": {},
   "outputs": [
    {
     "data": {
      "text/plain": [
       "{'bhuvi', 'bumrah', 'chahal', 'jadeja', 'rohit', 'sachin', 'virat'}"
      ]
     },
     "execution_count": 68,
     "metadata": {},
     "output_type": "execute_result"
    }
   ],
   "source": [
    "players"
   ]
  },
  {
   "cell_type": "code",
   "execution_count": 69,
   "id": "22f22fd7",
   "metadata": {},
   "outputs": [],
   "source": [
    "players_in_caps = [x.upper() for x in players]"
   ]
  },
  {
   "cell_type": "code",
   "execution_count": 70,
   "id": "3f04807a",
   "metadata": {},
   "outputs": [
    {
     "data": {
      "text/plain": [
       "['ROHIT', 'BHUVI', 'SACHIN', 'CHAHAL', 'BUMRAH', 'VIRAT', 'JADEJA']"
      ]
     },
     "execution_count": 70,
     "metadata": {},
     "output_type": "execute_result"
    }
   ],
   "source": [
    "players_in_caps"
   ]
  },
  {
   "cell_type": "code",
   "execution_count": 71,
   "id": "2f70c2b5",
   "metadata": {},
   "outputs": [],
   "source": [
    "players_in_caps = [x.upper() for x in players if x.endswith('t')]"
   ]
  },
  {
   "cell_type": "code",
   "execution_count": 72,
   "id": "6bd77d45",
   "metadata": {},
   "outputs": [
    {
     "data": {
      "text/plain": [
       "['ROHIT', 'VIRAT']"
      ]
     },
     "execution_count": 72,
     "metadata": {},
     "output_type": "execute_result"
    }
   ],
   "source": [
    "players_in_caps"
   ]
  },
  {
   "cell_type": "markdown",
   "id": "a8c46bbe",
   "metadata": {},
   "source": [
    "## Tomorrow:\n",
    "\n",
    "Functions\n",
    "File operations\n",
    "Iterator, Genrator and Decorator"
   ]
  },
  {
   "cell_type": "code",
   "execution_count": null,
   "id": "a5fa1bbb",
   "metadata": {},
   "outputs": [],
   "source": []
  }
 ],
 "metadata": {
  "kernelspec": {
   "display_name": "Python 3",
   "language": "python",
   "name": "python3"
  },
  "language_info": {
   "codemirror_mode": {
    "name": "ipython",
    "version": 3
   },
   "file_extension": ".py",
   "mimetype": "text/x-python",
   "name": "python",
   "nbconvert_exporter": "python",
   "pygments_lexer": "ipython3",
   "version": "3.8.8"
  }
 },
 "nbformat": 4,
 "nbformat_minor": 5
}
