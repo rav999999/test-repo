{
 "cells": [
  {
   "cell_type": "markdown",
   "id": "c6212435",
   "metadata": {},
   "source": [
    "## Installation steps:\n",
    "- https://medium.com/@GalarnykMichael/install-spark-on-mac-pyspark-453f395f240b#.be80dcqat\n"
   ]
  },
  {
   "cell_type": "markdown",
   "id": "73db52e9",
   "metadata": {},
   "source": [
    "## Import pyspark"
   ]
  },
  {
   "cell_type": "code",
   "execution_count": 1,
   "id": "36c51dbb",
   "metadata": {},
   "outputs": [],
   "source": [
    "import pyspark.sql.functions as F\n",
    "import pyspark\n",
    "from pyspark import SparkConf, SparkContext"
   ]
  },
  {
   "cell_type": "markdown",
   "id": "f2d2b8cd",
   "metadata": {},
   "source": [
    "# Create Spark Session"
   ]
  },
  {
   "cell_type": "code",
   "execution_count": 2,
   "id": "8c8fb4a8",
   "metadata": {},
   "outputs": [],
   "source": [
    "#pyspark.sql.SparkSession\n",
    "\n",
    "spark = pyspark.sql.SparkSession.builder.master(\"local\").appName(\"SparkByExamples.com\").getOrCreate()\n"
   ]
  },
  {
   "cell_type": "markdown",
   "id": "b8d7b66c",
   "metadata": {},
   "source": [
    "# Read csv file using spark"
   ]
  },
  {
   "cell_type": "code",
   "execution_count": 68,
   "id": "14113fd2",
   "metadata": {},
   "outputs": [],
   "source": [
    "df1 = spark.read.option(\"header\",True) \\\n",
    "     .csv(\"/Users/ravidevineni/PycharmProjects/project/emp_details.csv\")"
   ]
  },
  {
   "cell_type": "code",
   "execution_count": 69,
   "id": "e29fccbf",
   "metadata": {},
   "outputs": [
    {
     "name": "stdout",
     "output_type": "stream",
     "text": [
      "+------+----------+---------+------+------------+---+\n",
      "|emp_id|first_name|last_name|salary|phone_number|age|\n",
      "+------+----------+---------+------+------------+---+\n",
      "|  1234|      hari|    kiran|  2000|        1234| 20|\n",
      "|  1235|      ravi|    kumar|  3000|        1239| 21|\n",
      "|  1236|       sri|  krishna|  5000|        1434| 24|\n",
      "|  1237|     rohit|   sharma|  6000|        1539| 23|\n",
      "|  1238|    suresh|    raina|  8000|       1639]| 39|\n",
      "|  1239|      hari|    haran|  null|        1934| 43|\n",
      "|  1239|      hari|    haran|  9000|        1934| 43|\n",
      "|  1233|      hari|    haran|  9000|        1934| 43|\n",
      "|  1240|      hari|    haran|  9000|        1934| 43|\n",
      "|  1241|      hari|    haran|  9000|        1934| 43|\n",
      "|  1251|      hari|    haran|  9100|        1934| 43|\n",
      "|  1261|      hari|    haran|  9200|        1934| 43|\n",
      "+------+----------+---------+------+------------+---+\n",
      "\n"
     ]
    }
   ],
   "source": [
    "df1.show()"
   ]
  },
  {
   "cell_type": "code",
   "execution_count": 70,
   "id": "a5d97e95",
   "metadata": {},
   "outputs": [],
   "source": [
    "df2 = spark.read.option(\"header\",True) \\\n",
    "     .csv(\"/Users/ravidevineni/PycharmProjects/project/emp_department.csv\")"
   ]
  },
  {
   "cell_type": "markdown",
   "id": "5192cbdd",
   "metadata": {},
   "source": [
    "# Show is used to visualize the data"
   ]
  },
  {
   "cell_type": "code",
   "execution_count": 71,
   "id": "c4238d1a",
   "metadata": {},
   "outputs": [
    {
     "name": "stdout",
     "output_type": "stream",
     "text": [
      "+------+----------+\n",
      "|emp_id|department|\n",
      "+------+----------+\n",
      "|  1234|     dept1|\n",
      "|  1235|     dept2|\n",
      "|  1236|     dept1|\n",
      "|  1237|     dept2|\n",
      "|  1238|     dept1|\n",
      "|  1239|     dept1|\n",
      "|  1233|     dept2|\n",
      "|  1240|     dept1|\n",
      "|  1241|     dept1|\n",
      "|  1251|     dept1|\n",
      "|  1261|     dept1|\n",
      "+------+----------+\n",
      "\n"
     ]
    }
   ],
   "source": [
    "df2.show()"
   ]
  },
  {
   "cell_type": "code",
   "execution_count": 52,
   "id": "e10fb1db",
   "metadata": {},
   "outputs": [
    {
     "data": {
      "text/plain": [
       "[('emp_id', 'string'),\n",
       " ('first_name', 'string'),\n",
       " ('last_name', 'string'),\n",
       " ('salary', 'string'),\n",
       " ('phone_number', 'string'),\n",
       " ('age', 'string')]"
      ]
     },
     "execution_count": 52,
     "metadata": {},
     "output_type": "execute_result"
    }
   ],
   "source": [
    "df1.dtypes"
   ]
  },
  {
   "cell_type": "code",
   "execution_count": 53,
   "id": "fef1200b",
   "metadata": {},
   "outputs": [
    {
     "name": "stdout",
     "output_type": "stream",
     "text": [
      "+------+----------+---------+------+------------+---+\n",
      "|emp_id|first_name|last_name|salary|phone_number|age|\n",
      "+------+----------+---------+------+------------+---+\n",
      "|  1234|      hari|    kiran|  2000|        1234| 20|\n",
      "|  1235|      ravi|    kumar|  3000|        1239| 21|\n",
      "|  1236|       sri|  krishna|  5000|        1434| 24|\n",
      "|  1237|     rohit|   sharma|  6000|        1539| 23|\n",
      "|  1238|    suresh|    raina|  8000|       1639]| 39|\n",
      "|  1239|      hari|    haran|  null|        1934| 43|\n",
      "|  1239|      hari|    haran|  9000|        1934| 43|\n",
      "|  1233|      hari|    haran|  9000|        1934| 43|\n",
      "|  1240|      hari|    haran|  9000|        1934| 43|\n",
      "|  1241|      hari|    haran|  9000|        1934| 43|\n",
      "+------+----------+---------+------+------------+---+\n",
      "\n"
     ]
    }
   ],
   "source": [
    "df1.show()"
   ]
  },
  {
   "cell_type": "markdown",
   "id": "b6db90d8",
   "metadata": {},
   "source": [
    "## first() will return the first row from the dataframe"
   ]
  },
  {
   "cell_type": "code",
   "execution_count": 166,
   "id": "5af651bc",
   "metadata": {},
   "outputs": [
    {
     "data": {
      "text/plain": [
       "Row(emp_id='1234', first_name='hari', last_name='kiran', salary='2000', phone_number='1234', age='20')"
      ]
     },
     "execution_count": 166,
     "metadata": {},
     "output_type": "execute_result"
    }
   ],
   "source": [
    "df1.first()"
   ]
  },
  {
   "cell_type": "markdown",
   "id": "df453a99",
   "metadata": {},
   "source": [
    "# take() will return particular records based on the argument it takes"
   ]
  },
  {
   "cell_type": "code",
   "execution_count": 167,
   "id": "5402a4bc",
   "metadata": {},
   "outputs": [
    {
     "data": {
      "text/plain": [
       "[Row(emp_id='1234', first_name='hari', last_name='kiran', salary='2000', phone_number='1234', age='20'),\n",
       " Row(emp_id='1235', first_name='ravi', last_name='kumar', salary='3000', phone_number='1239', age='21')]"
      ]
     },
     "execution_count": 167,
     "metadata": {},
     "output_type": "execute_result"
    }
   ],
   "source": [
    "df1.take(2)"
   ]
  },
  {
   "cell_type": "markdown",
   "id": "26b9ff7b",
   "metadata": {},
   "source": [
    "# Schema is used to return the schema of dataframe, which contains the column name, type of data inside each column"
   ]
  },
  {
   "cell_type": "code",
   "execution_count": 168,
   "id": "247ef611",
   "metadata": {},
   "outputs": [
    {
     "data": {
      "text/plain": [
       "StructType([StructField('emp_id', StringType(), True), StructField('first_name', StringType(), True), StructField('last_name', StringType(), True), StructField('salary', StringType(), True), StructField('phone_number', StringType(), True), StructField('age', StringType(), True)])"
      ]
     },
     "execution_count": 168,
     "metadata": {},
     "output_type": "execute_result"
    }
   ],
   "source": [
    "df1.schema"
   ]
  },
  {
   "cell_type": "markdown",
   "id": "e45ac7cf",
   "metadata": {},
   "source": [
    "# dropDuplicates is used to drop the duplicates"
   ]
  },
  {
   "cell_type": "code",
   "execution_count": 174,
   "id": "c77edd8e",
   "metadata": {},
   "outputs": [],
   "source": [
    "df_unique = df1.dropDuplicates()"
   ]
  },
  {
   "cell_type": "code",
   "execution_count": 175,
   "id": "0f3f886c",
   "metadata": {},
   "outputs": [
    {
     "name": "stdout",
     "output_type": "stream",
     "text": [
      "+------+----------+---------+------+------------+---+\n",
      "|emp_id|first_name|last_name|salary|phone_number|age|\n",
      "+------+----------+---------+------+------------+---+\n",
      "|  1234|      hari|    kiran|  2000|        1234| 20|\n",
      "|  1235|      ravi|    kumar|  3000|        1239| 21|\n",
      "|  1238|    suresh|    raina|  8000|       1639]| 39|\n",
      "|  1237|     rohit|   sharma|  6000|        1539| 23|\n",
      "|  1239|      hari|    haran|  9000|        1934| 43|\n",
      "|  1236|       sri|  krishna|  5000|        1434| 24|\n",
      "+------+----------+---------+------+------------+---+\n",
      "\n"
     ]
    }
   ],
   "source": [
    "df_unique.show()"
   ]
  },
  {
   "cell_type": "code",
   "execution_count": 177,
   "id": "b4e8055d",
   "metadata": {},
   "outputs": [
    {
     "name": "stdout",
     "output_type": "stream",
     "text": [
      "+----------+\n",
      "|first_name|\n",
      "+----------+\n",
      "|      hari|\n",
      "|      ravi|\n",
      "|    suresh|\n",
      "|     rohit|\n",
      "|      hari|\n",
      "|       sri|\n",
      "+----------+\n",
      "\n"
     ]
    }
   ],
   "source": [
    "df_unique.select(df1[\"first_name\"]).show()"
   ]
  },
  {
   "cell_type": "code",
   "execution_count": 181,
   "id": "4fa6340f",
   "metadata": {},
   "outputs": [],
   "source": [
    "df100 = df1.select(df1[\"first_name\"],df1[\"last_name\"],df1[\"age\"]+ 10)"
   ]
  },
  {
   "cell_type": "code",
   "execution_count": 182,
   "id": "f8581ad0",
   "metadata": {},
   "outputs": [],
   "source": [
    "df101 = df1.select(df1[\"first_name\"],df1[\"phone_number\"],df1[\"age\"]+ 10)"
   ]
  },
  {
   "cell_type": "code",
   "execution_count": 183,
   "id": "41eb4e6e",
   "metadata": {},
   "outputs": [
    {
     "data": {
      "text/plain": [
       "[Row(first_name='hari', phone_number='1234', (age + 10)=30.0),\n",
       " Row(first_name='ravi', phone_number='1239', (age + 10)=31.0),\n",
       " Row(first_name='sri', phone_number='1434', (age + 10)=34.0),\n",
       " Row(first_name='rohit', phone_number='1539', (age + 10)=33.0),\n",
       " Row(first_name='suresh', phone_number='1639]', (age + 10)=49.0),\n",
       " Row(first_name='hari', phone_number='1934', (age + 10)=53.0),\n",
       " Row(first_name='hari', phone_number='1934', (age + 10)=53.0),\n",
       " Row(first_name='hari', phone_number='1934', (age + 10)=53.0)]"
      ]
     },
     "execution_count": 183,
     "metadata": {},
     "output_type": "execute_result"
    }
   ],
   "source": [
    "df101.collect()"
   ]
  },
  {
   "cell_type": "markdown",
   "id": "0fc42321",
   "metadata": {},
   "source": [
    "## Note: Spark is having lazy evaluation"
   ]
  },
  {
   "cell_type": "markdown",
   "id": "12b73149",
   "metadata": {},
   "source": [
    "# Filter the data with specific condition"
   ]
  },
  {
   "cell_type": "code",
   "execution_count": 110,
   "id": "72db2e38",
   "metadata": {},
   "outputs": [
    {
     "name": "stdout",
     "output_type": "stream",
     "text": [
      "+----------+\n",
      "|(age > 24)|\n",
      "+----------+\n",
      "|     false|\n",
      "|     false|\n",
      "|     false|\n",
      "|     false|\n",
      "|      true|\n",
      "|      true|\n",
      "+----------+\n",
      "\n"
     ]
    }
   ],
   "source": [
    "df1.select(df1['age'] > 24).show()"
   ]
  },
  {
   "cell_type": "code",
   "execution_count": 186,
   "id": "a04337ad",
   "metadata": {},
   "outputs": [
    {
     "name": "stdout",
     "output_type": "stream",
     "text": [
      "+------+----------+---------+------+------------+---+\n",
      "|emp_id|first_name|last_name|salary|phone_number|age|\n",
      "+------+----------+---------+------+------------+---+\n",
      "|  1234|      hari|    kiran|  2000|        1234| 20|\n",
      "|  1235|      ravi|    kumar|  3000|        1239| 21|\n",
      "|  1236|       sri|  krishna|  5000|        1434| 24|\n",
      "|  1237|     rohit|   sharma|  6000|        1539| 23|\n",
      "|  1238|    suresh|    raina|  8000|       1639]| 39|\n",
      "|  1239|      hari|    haran|  9000|        1934| 43|\n",
      "|  1239|      hari|    haran|  9000|        1934| 43|\n",
      "|  1239|      hari|    haran|  9000|        1934| 43|\n",
      "+------+----------+---------+------+------------+---+\n",
      "\n"
     ]
    }
   ],
   "source": [
    "df1.show()"
   ]
  },
  {
   "cell_type": "markdown",
   "id": "d552a979",
   "metadata": {},
   "source": [
    "# Assign the values based on the particular copndition"
   ]
  },
  {
   "cell_type": "code",
   "execution_count": 184,
   "id": "c0b14ffb",
   "metadata": {},
   "outputs": [
    {
     "name": "stdout",
     "output_type": "stream",
     "text": [
      "+----------+--------------------------------------+\n",
      "|first_name|CASE WHEN (age > 30) THEN 1 ELSE 0 END|\n",
      "+----------+--------------------------------------+\n",
      "|      hari|                                     0|\n",
      "|      ravi|                                     0|\n",
      "|       sri|                                     0|\n",
      "|     rohit|                                     0|\n",
      "|    suresh|                                     1|\n",
      "|      hari|                                     1|\n",
      "|      hari|                                     1|\n",
      "|      hari|                                     1|\n",
      "+----------+--------------------------------------+\n",
      "\n"
     ]
    }
   ],
   "source": [
    " df1.select(\"first_name\", F.when(df1.age > 30, 1).otherwise(0)).show()"
   ]
  },
  {
   "cell_type": "code",
   "execution_count": 188,
   "id": "d229ee60",
   "metadata": {},
   "outputs": [
    {
     "name": "stdout",
     "output_type": "stream",
     "text": [
      "+------+----------+---------+------+------------+---+\n",
      "|emp_id|first_name|last_name|salary|phone_number|age|\n",
      "+------+----------+---------+------+------------+---+\n",
      "|  1234|      hari|    kiran|  2000|        1234| 20|\n",
      "|  1235|      ravi|    kumar|  3000|        1239| 21|\n",
      "|  1236|       sri|  krishna|  5000|        1434| 24|\n",
      "|  1237|     rohit|   sharma|  6000|        1539| 23|\n",
      "|  1238|    suresh|    raina|  8000|       1639]| 39|\n",
      "|  1239|      hari|    haran|  9000|        1934| 43|\n",
      "|  1239|      hari|    haran|  9000|        1934| 43|\n",
      "|  1239|      hari|    haran|  9000|        1934| 43|\n",
      "+------+----------+---------+------+------------+---+\n",
      "\n"
     ]
    }
   ],
   "source": [
    "df1.show()"
   ]
  },
  {
   "cell_type": "code",
   "execution_count": 194,
   "id": "14dd3841",
   "metadata": {},
   "outputs": [
    {
     "name": "stdout",
     "output_type": "stream",
     "text": [
      "+------+----------+---------+------+------------+---+\n",
      "|emp_id|first_name|last_name|salary|phone_number|age|\n",
      "+------+----------+---------+------+------------+---+\n",
      "|  1239|      hari|    haran|  9000|        1934| 43|\n",
      "+------+----------+---------+------+------------+---+\n",
      "\n"
     ]
    }
   ],
   "source": [
    " df1[df1.last_name.isin(\"haran\")].dropDuplicates().show()"
   ]
  },
  {
   "cell_type": "code",
   "execution_count": 198,
   "id": "af71fd1f",
   "metadata": {},
   "outputs": [
    {
     "name": "stdout",
     "output_type": "stream",
     "text": [
      "+------+----------+---------+------+------------+---+\n",
      "|emp_id|first_name|last_name|salary|phone_number|age|\n",
      "+------+----------+---------+------+------------+---+\n",
      "|  1234|      hari|    kiran|  2000|        1234| 20|\n",
      "|  1235|      ravi|    kumar|  3000|        1239| 21|\n",
      "|  1236|       sri|  krishna|  5000|        1434| 24|\n",
      "|  1237|     rohit|   sharma|  6000|        1539| 23|\n",
      "|  1238|    suresh|    raina|  8000|       1639]| 39|\n",
      "|  1239|      hari|    haran|  9000|        1934| 43|\n",
      "|  1239|      hari|    haran|  9000|        1934| 43|\n",
      "|  1239|      hari|    haran|  9000|        1934| 43|\n",
      "+------+----------+---------+------+------------+---+\n",
      "\n"
     ]
    }
   ],
   "source": [
    "df1.show()"
   ]
  },
  {
   "cell_type": "markdown",
   "id": "a0bad328",
   "metadata": {},
   "source": [
    "# Like statement is used to verify the given data is matching with the condition"
   ]
  },
  {
   "cell_type": "code",
   "execution_count": 200,
   "id": "29d718d5",
   "metadata": {},
   "outputs": [
    {
     "name": "stdout",
     "output_type": "stream",
     "text": [
      "+----------+-------------------+\n",
      "|first_name|last_name LIKE %ma%|\n",
      "+----------+-------------------+\n",
      "|      hari|              false|\n",
      "|      ravi|               true|\n",
      "|       sri|              false|\n",
      "|     rohit|               true|\n",
      "|    suresh|              false|\n",
      "|      hari|              false|\n",
      "|      hari|              false|\n",
      "|      hari|              false|\n",
      "+----------+-------------------+\n",
      "\n"
     ]
    }
   ],
   "source": [
    " df1.select(\"first_name\", df1.last_name.like(\"%ma%\")).show() "
   ]
  },
  {
   "cell_type": "code",
   "execution_count": 203,
   "id": "88b9a30c",
   "metadata": {},
   "outputs": [
    {
     "name": "stdout",
     "output_type": "stream",
     "text": [
      "+------+----------+---------+------+------------+---+\n",
      "|emp_id|first_name|last_name|salary|phone_number|age|\n",
      "+------+----------+---------+------+------------+---+\n",
      "|  1234|      hari|    kiran|  2000|        1234| 20|\n",
      "|  1235|      ravi|    kumar|  3000|        1239| 21|\n",
      "|  1236|       sri|  krishna|  5000|        1434| 24|\n",
      "|  1237|     rohit|   sharma|  6000|        1539| 23|\n",
      "|  1238|    suresh|    raina|  8000|       1639]| 39|\n",
      "|  1239|      hari|    haran|  9000|        1934| 43|\n",
      "|  1239|      hari|    haran|  9000|        1934| 43|\n",
      "|  1239|      hari|    haran|  9000|        1934| 43|\n",
      "+------+----------+---------+------+------------+---+\n",
      "\n"
     ]
    }
   ],
   "source": [
    "df1.show()"
   ]
  },
  {
   "cell_type": "markdown",
   "id": "cc5195e7",
   "metadata": {},
   "source": [
    "# startswith is used to check if the data inside specific column is starts with the string mentioned and return the respective boolean value"
   ]
  },
  {
   "cell_type": "code",
   "execution_count": 202,
   "id": "deef842e",
   "metadata": {},
   "outputs": [
    {
     "name": "stdout",
     "output_type": "stream",
     "text": [
      "+----------+---+-------------------------+\n",
      "|first_name|age|startswith(last_name, ha)|\n",
      "+----------+---+-------------------------+\n",
      "|      hari| 20|                    false|\n",
      "|      ravi| 21|                    false|\n",
      "|       sri| 24|                    false|\n",
      "|     rohit| 23|                    false|\n",
      "|    suresh| 39|                    false|\n",
      "|      hari| 43|                     true|\n",
      "|      hari| 43|                     true|\n",
      "|      hari| 43|                     true|\n",
      "+----------+---+-------------------------+\n",
      "\n"
     ]
    }
   ],
   "source": [
    "df1.select(\"first_name\", 'age', df1.last_name.startswith(\"ha\")).show()"
   ]
  },
  {
   "cell_type": "markdown",
   "id": "37b8aae6",
   "metadata": {},
   "source": [
    "# startswith is used to check if the data inside specific column is starts with the string mentioned and return the respective boolean value"
   ]
  },
  {
   "cell_type": "code",
   "execution_count": 204,
   "id": "7d3d58eb",
   "metadata": {},
   "outputs": [
    {
     "name": "stdout",
     "output_type": "stream",
     "text": [
      "+---------+--------------------------+\n",
      "|last_name|endswith(last_name, haran)|\n",
      "+---------+--------------------------+\n",
      "|    kiran|                     false|\n",
      "|    kumar|                     false|\n",
      "|  krishna|                     false|\n",
      "|   sharma|                     false|\n",
      "|    raina|                     false|\n",
      "|    haran|                      true|\n",
      "|    haran|                      true|\n",
      "|    haran|                      true|\n",
      "+---------+--------------------------+\n",
      "\n"
     ]
    }
   ],
   "source": [
    " df1.select('last_name', df1.last_name.endswith(\"haran\")).show()"
   ]
  },
  {
   "cell_type": "markdown",
   "id": "bdc10c74",
   "metadata": {},
   "source": [
    "# Assigment: create employee data with columns first_name, last_name, emails (which contain gmail, outlook, etc). filter the employee data which have gmail.\n",
    "\n",
    "- gmail endwith @gmail.com\n",
    "- outlook endswith @outlook.com\n",
    "\n"
   ]
  },
  {
   "cell_type": "markdown",
   "id": "00cbde2c",
   "metadata": {},
   "source": [
    "# To get the substring from the data inside specific column. It takes the start and ending index of the substring"
   ]
  },
  {
   "cell_type": "code",
   "execution_count": 130,
   "id": "8616563e",
   "metadata": {},
   "outputs": [
    {
     "data": {
      "text/plain": [
       "[Row(name='kir'),\n",
       " Row(name='kum'),\n",
       " Row(name='kri'),\n",
       " Row(name='sha'),\n",
       " Row(name='rai'),\n",
       " Row(name='har')]"
      ]
     },
     "execution_count": 130,
     "metadata": {},
     "output_type": "execute_result"
    }
   ],
   "source": [
    "df1.select(df1.last_name.substr(1, 3).alias(\"name\")).collect()"
   ]
  },
  {
   "cell_type": "code",
   "execution_count": 205,
   "id": "bb466ef9",
   "metadata": {},
   "outputs": [
    {
     "name": "stdout",
     "output_type": "stream",
     "text": [
      "+------+----------+---------+------+------------+---+\n",
      "|emp_id|first_name|last_name|salary|phone_number|age|\n",
      "+------+----------+---------+------+------------+---+\n",
      "|  1234|      hari|    kiran|  2000|        1234| 20|\n",
      "|  1235|      ravi|    kumar|  3000|        1239| 21|\n",
      "|  1236|       sri|  krishna|  5000|        1434| 24|\n",
      "|  1237|     rohit|   sharma|  6000|        1539| 23|\n",
      "|  1238|    suresh|    raina|  8000|       1639]| 39|\n",
      "|  1239|      hari|    haran|  9000|        1934| 43|\n",
      "|  1239|      hari|    haran|  9000|        1934| 43|\n",
      "|  1239|      hari|    haran|  9000|        1934| 43|\n",
      "+------+----------+---------+------+------------+---+\n",
      "\n"
     ]
    }
   ],
   "source": [
    "df1.show()"
   ]
  },
  {
   "cell_type": "markdown",
   "id": "e1ee1f9c",
   "metadata": {},
   "source": [
    "# between is used to get the records whichever the values are between the given limits"
   ]
  },
  {
   "cell_type": "code",
   "execution_count": 206,
   "id": "7a668af6",
   "metadata": {},
   "outputs": [
    {
     "name": "stdout",
     "output_type": "stream",
     "text": [
      "+-----------------------------+\n",
      "|((age >= 22) AND (age <= 24))|\n",
      "+-----------------------------+\n",
      "|                        false|\n",
      "|                        false|\n",
      "|                         true|\n",
      "|                         true|\n",
      "|                        false|\n",
      "|                        false|\n",
      "|                        false|\n",
      "|                        false|\n",
      "+-----------------------------+\n",
      "\n"
     ]
    }
   ],
   "source": [
    "df1.select(df1.age.between(22, 24)).show(20)"
   ]
  },
  {
   "cell_type": "code",
   "execution_count": 133,
   "id": "a7e50563",
   "metadata": {},
   "outputs": [],
   "source": [
    "df3 = df1.withColumnRenamed('last_name', 'LastName')"
   ]
  },
  {
   "cell_type": "code",
   "execution_count": 207,
   "id": "68d6e197",
   "metadata": {},
   "outputs": [
    {
     "name": "stdout",
     "output_type": "stream",
     "text": [
      "+------+----------+--------+------+------------+---+\n",
      "|emp_id|first_name|LastName|salary|phone_number|age|\n",
      "+------+----------+--------+------+------------+---+\n",
      "|  1234|      hari|   kiran|  2000|        1234| 20|\n",
      "|  1235|      ravi|   kumar|  3000|        1239| 21|\n",
      "|  1236|       sri| krishna|  5000|        1434| 24|\n",
      "|  1237|     rohit|  sharma|  6000|        1539| 23|\n",
      "|  1238|    suresh|   raina|  8000|       1639]| 39|\n",
      "|  1239|      hari|   haran|  9000|        1934| 43|\n",
      "+------+----------+--------+------+------------+---+\n",
      "\n"
     ]
    }
   ],
   "source": [
    "df3.show()"
   ]
  },
  {
   "cell_type": "markdown",
   "id": "81a36199",
   "metadata": {},
   "source": [
    "# withColumnRenamed is used to change the column name, it takes two parameters: old and new column names"
   ]
  },
  {
   "cell_type": "code",
   "execution_count": 208,
   "id": "7374aa19",
   "metadata": {},
   "outputs": [],
   "source": [
    "df103 = df1.withColumnRenamed('phone_number', 'mobile_number')"
   ]
  },
  {
   "cell_type": "code",
   "execution_count": 209,
   "id": "eb467cd9",
   "metadata": {},
   "outputs": [
    {
     "name": "stdout",
     "output_type": "stream",
     "text": [
      "+------+----------+---------+------+-------------+---+\n",
      "|emp_id|first_name|last_name|salary|mobile_number|age|\n",
      "+------+----------+---------+------+-------------+---+\n",
      "|  1234|      hari|    kiran|  2000|         1234| 20|\n",
      "|  1235|      ravi|    kumar|  3000|         1239| 21|\n",
      "|  1236|       sri|  krishna|  5000|         1434| 24|\n",
      "|  1237|     rohit|   sharma|  6000|         1539| 23|\n",
      "|  1238|    suresh|    raina|  8000|        1639]| 39|\n",
      "|  1239|      hari|    haran|  9000|         1934| 43|\n",
      "|  1239|      hari|    haran|  9000|         1934| 43|\n",
      "|  1239|      hari|    haran|  9000|         1934| 43|\n",
      "+------+----------+---------+------+-------------+---+\n",
      "\n"
     ]
    }
   ],
   "source": [
    "df103.show()"
   ]
  },
  {
   "cell_type": "markdown",
   "id": "e3bf73d4",
   "metadata": {},
   "source": [
    "# drop function is used to drop the specific columns from the dataframe"
   ]
  },
  {
   "cell_type": "code",
   "execution_count": 212,
   "id": "0702f34f",
   "metadata": {},
   "outputs": [
    {
     "name": "stdout",
     "output_type": "stream",
     "text": [
      "+------+----------+---------+------+------------+---+\n",
      "|emp_id|first_name|last_name|salary|phone_number|age|\n",
      "+------+----------+---------+------+------------+---+\n",
      "|  1234|      hari|    kiran|  2000|        1234| 20|\n",
      "|  1235|      ravi|    kumar|  3000|        1239| 21|\n",
      "|  1236|       sri|  krishna|  5000|        1434| 24|\n",
      "|  1237|     rohit|   sharma|  6000|        1539| 23|\n",
      "|  1238|    suresh|    raina|  8000|       1639]| 39|\n",
      "|  1239|      hari|    haran|  9000|        1934| 43|\n",
      "|  1239|      hari|    haran|  9000|        1934| 43|\n",
      "|  1239|      hari|    haran|  9000|        1934| 43|\n",
      "+------+----------+---------+------+------------+---+\n",
      "\n"
     ]
    }
   ],
   "source": [
    "df1.show()"
   ]
  },
  {
   "cell_type": "code",
   "execution_count": 213,
   "id": "ef385388",
   "metadata": {},
   "outputs": [],
   "source": [
    " df4 = df1.drop(\"age\")"
   ]
  },
  {
   "cell_type": "code",
   "execution_count": 214,
   "id": "b66e08db",
   "metadata": {},
   "outputs": [
    {
     "name": "stdout",
     "output_type": "stream",
     "text": [
      "+------+----------+---------+------+------------+\n",
      "|emp_id|first_name|last_name|salary|phone_number|\n",
      "+------+----------+---------+------+------------+\n",
      "|  1234|      hari|    kiran|  2000|        1234|\n",
      "|  1235|      ravi|    kumar|  3000|        1239|\n",
      "|  1236|       sri|  krishna|  5000|        1434|\n",
      "|  1237|     rohit|   sharma|  6000|        1539|\n",
      "|  1238|    suresh|    raina|  8000|       1639]|\n",
      "|  1239|      hari|    haran|  9000|        1934|\n",
      "|  1239|      hari|    haran|  9000|        1934|\n",
      "|  1239|      hari|    haran|  9000|        1934|\n",
      "+------+----------+---------+------+------------+\n",
      "\n"
     ]
    }
   ],
   "source": [
    "df4.show()"
   ]
  },
  {
   "cell_type": "markdown",
   "id": "b6579de5",
   "metadata": {},
   "source": [
    "# describe is used to get the arithemetic operations/aggregations on the data"
   ]
  },
  {
   "cell_type": "code",
   "execution_count": 137,
   "id": "7bde0fac",
   "metadata": {},
   "outputs": [
    {
     "name": "stdout",
     "output_type": "stream",
     "text": [
      "+-------+------------------+----------+---------+------------------+-----------------+\n",
      "|summary|            emp_id|first_name|last_name|            salary|     phone_number|\n",
      "+-------+------------------+----------+---------+------------------+-----------------+\n",
      "|  count|                 6|         6|        6|                 6|                6|\n",
      "|   mean|            1236.5|      null|     null|            5500.0|           1476.0|\n",
      "| stddev|1.8708286933869707|      null|     null|2738.6127875258308|287.3282095444163|\n",
      "|    min|              1234|      hari|    haran|              2000|             1234|\n",
      "|    max|              1239|    suresh|   sharma|              9000|             1934|\n",
      "+-------+------------------+----------+---------+------------------+-----------------+\n",
      "\n"
     ]
    }
   ],
   "source": [
    "df4.describe().show()"
   ]
  },
  {
   "cell_type": "markdown",
   "id": "494020c5",
   "metadata": {},
   "source": [
    "# columns is used to get the column names of the given dataframe"
   ]
  },
  {
   "cell_type": "code",
   "execution_count": 138,
   "id": "e8309877",
   "metadata": {},
   "outputs": [
    {
     "data": {
      "text/plain": [
       "['emp_id', 'first_name', 'last_name', 'salary', 'phone_number', 'age']"
      ]
     },
     "execution_count": 138,
     "metadata": {},
     "output_type": "execute_result"
    }
   ],
   "source": [
    "df1.columns"
   ]
  },
  {
   "cell_type": "markdown",
   "id": "b913644c",
   "metadata": {},
   "source": [
    "# count is used to get the number of records inside the dataframe"
   ]
  },
  {
   "cell_type": "code",
   "execution_count": 215,
   "id": "f3d7496d",
   "metadata": {},
   "outputs": [
    {
     "data": {
      "text/plain": [
       "8"
      ]
     },
     "execution_count": 215,
     "metadata": {},
     "output_type": "execute_result"
    }
   ],
   "source": [
    "df1.count() "
   ]
  },
  {
   "cell_type": "markdown",
   "id": "559edcb6",
   "metadata": {},
   "source": [
    "# distinct is used to get the unique records from the given dataframe"
   ]
  },
  {
   "cell_type": "code",
   "execution_count": 218,
   "id": "4a8b097a",
   "metadata": {},
   "outputs": [
    {
     "name": "stdout",
     "output_type": "stream",
     "text": [
      "+------+----------+---------+------+------------+---+\n",
      "|emp_id|first_name|last_name|salary|phone_number|age|\n",
      "+------+----------+---------+------+------------+---+\n",
      "|  1234|      hari|    kiran|  2000|        1234| 20|\n",
      "|  1235|      ravi|    kumar|  3000|        1239| 21|\n",
      "|  1236|       sri|  krishna|  5000|        1434| 24|\n",
      "|  1237|     rohit|   sharma|  6000|        1539| 23|\n",
      "|  1238|    suresh|    raina|  8000|       1639]| 39|\n",
      "|  1239|      hari|    haran|  9000|        1934| 43|\n",
      "|  1239|      hari|    haran|  9000|        1934| 43|\n",
      "|  1239|      hari|    haran|  9000|        1934| 43|\n",
      "+------+----------+---------+------+------------+---+\n",
      "\n"
     ]
    }
   ],
   "source": [
    "df1.show()"
   ]
  },
  {
   "cell_type": "code",
   "execution_count": 219,
   "id": "90ac0127",
   "metadata": {},
   "outputs": [],
   "source": [
    " df104 = df1.distinct()"
   ]
  },
  {
   "cell_type": "code",
   "execution_count": 220,
   "id": "02aa8276",
   "metadata": {},
   "outputs": [
    {
     "name": "stdout",
     "output_type": "stream",
     "text": [
      "+------+----------+---------+------+------------+---+\n",
      "|emp_id|first_name|last_name|salary|phone_number|age|\n",
      "+------+----------+---------+------+------------+---+\n",
      "|  1234|      hari|    kiran|  2000|        1234| 20|\n",
      "|  1235|      ravi|    kumar|  3000|        1239| 21|\n",
      "|  1238|    suresh|    raina|  8000|       1639]| 39|\n",
      "|  1237|     rohit|   sharma|  6000|        1539| 23|\n",
      "|  1239|      hari|    haran|  9000|        1934| 43|\n",
      "|  1236|       sri|  krishna|  5000|        1434| 24|\n",
      "+------+----------+---------+------+------------+---+\n",
      "\n"
     ]
    }
   ],
   "source": [
    "df104.show()"
   ]
  },
  {
   "cell_type": "code",
   "execution_count": 217,
   "id": "68686c59",
   "metadata": {},
   "outputs": [
    {
     "data": {
      "text/plain": [
       "6"
      ]
     },
     "execution_count": 217,
     "metadata": {},
     "output_type": "execute_result"
    }
   ],
   "source": [
    " df1.distinct().count() "
   ]
  },
  {
   "cell_type": "markdown",
   "id": "b7044137",
   "metadata": {},
   "source": [
    "# printSchema is used to get the schema of the given dataframe which contains the column name, the data type"
   ]
  },
  {
   "cell_type": "code",
   "execution_count": 141,
   "id": "d975f9bc",
   "metadata": {},
   "outputs": [
    {
     "name": "stdout",
     "output_type": "stream",
     "text": [
      "root\n",
      " |-- emp_id: string (nullable = true)\n",
      " |-- first_name: string (nullable = true)\n",
      " |-- last_name: string (nullable = true)\n",
      " |-- salary: string (nullable = true)\n",
      " |-- phone_number: string (nullable = true)\n",
      " |-- age: string (nullable = true)\n",
      "\n"
     ]
    }
   ],
   "source": [
    " df1.printSchema()"
   ]
  },
  {
   "cell_type": "markdown",
   "id": "0e6c6456",
   "metadata": {},
   "source": [
    "# explain is used to get the physical and logocal plan of the dataframe"
   ]
  },
  {
   "cell_type": "code",
   "execution_count": 221,
   "id": "2d70d0cf",
   "metadata": {},
   "outputs": [
    {
     "name": "stdout",
     "output_type": "stream",
     "text": [
      "== Physical Plan ==\n",
      "FileScan csv [emp_id#2783,first_name#2784,last_name#2785,salary#2786,phone_number#2787,age#2788] Batched: false, DataFilters: [], Format: CSV, Location: InMemoryFileIndex(1 paths)[file:/Users/ravidevineni/PycharmProjects/project/emp_details.csv], PartitionFilters: [], PushedFilters: [], ReadSchema: struct<emp_id:string,first_name:string,last_name:string,salary:string,phone_number:string,age:str...\n",
      "\n",
      "\n"
     ]
    }
   ],
   "source": [
    " df1.explain() "
   ]
  },
  {
   "cell_type": "markdown",
   "id": "50411011",
   "metadata": {},
   "source": [
    "# groupBy is used to group the data of specific columns to apply the aggregations"
   ]
  },
  {
   "cell_type": "code",
   "execution_count": 223,
   "id": "7fbcb023",
   "metadata": {},
   "outputs": [
    {
     "name": "stdout",
     "output_type": "stream",
     "text": [
      "+------+----------+---------+------+------------+---+\n",
      "|emp_id|first_name|last_name|salary|phone_number|age|\n",
      "+------+----------+---------+------+------------+---+\n",
      "|  1234|      hari|    kiran|  2000|        1234| 20|\n",
      "|  1235|      ravi|    kumar|  3000|        1239| 21|\n",
      "|  1236|       sri|  krishna|  5000|        1434| 24|\n",
      "|  1237|     rohit|   sharma|  6000|        1539| 23|\n",
      "|  1238|    suresh|    raina|  8000|       1639]| 39|\n",
      "|  1239|      hari|    haran|  9000|        1934| 43|\n",
      "|  1239|      hari|    haran|  9000|        1934| 43|\n",
      "|  1239|      hari|    haran|  9000|        1934| 43|\n",
      "+------+----------+---------+------+------------+---+\n",
      "\n"
     ]
    }
   ],
   "source": [
    "df1.show()"
   ]
  },
  {
   "cell_type": "code",
   "execution_count": 224,
   "id": "a187da92",
   "metadata": {},
   "outputs": [
    {
     "name": "stdout",
     "output_type": "stream",
     "text": [
      "+---+-----+\n",
      "|age|count|\n",
      "+---+-----+\n",
      "| 43|    3|\n",
      "| 23|    1|\n",
      "| 24|    1|\n",
      "| 20|    1|\n",
      "| 39|    1|\n",
      "| 21|    1|\n",
      "+---+-----+\n",
      "\n"
     ]
    }
   ],
   "source": [
    "df1.groupBy(\"age\").count().show()"
   ]
  },
  {
   "cell_type": "code",
   "execution_count": 226,
   "id": "9921db11",
   "metadata": {},
   "outputs": [
    {
     "name": "stdout",
     "output_type": "stream",
     "text": [
      "+------+----------+---------+------+------------+---+\n",
      "|emp_id|first_name|last_name|salary|phone_number|age|\n",
      "+------+----------+---------+------+------------+---+\n",
      "|  1234|      hari|    kiran|  2000|        1234| 20|\n",
      "|  1235|      ravi|    kumar|  3000|        1239| 21|\n",
      "|  1236|       sri|  krishna|  5000|        1434| 24|\n",
      "|  1237|     rohit|   sharma|  6000|        1539| 23|\n",
      "|  1238|    suresh|    raina|  8000|       1639]| 39|\n",
      "|  1239|      hari|    haran|  9000|        1934| 43|\n",
      "|  1239|      hari|    haran|  9000|        1934| 43|\n",
      "|  1239|      hari|    haran|  9000|        1934| 43|\n",
      "+------+----------+---------+------+------------+---+\n",
      "\n"
     ]
    }
   ],
   "source": [
    "df1.show()"
   ]
  },
  {
   "cell_type": "markdown",
   "id": "3ac15c45",
   "metadata": {},
   "source": [
    "# filter is used to filter the data based on specific condition"
   ]
  },
  {
   "cell_type": "code",
   "execution_count": 227,
   "id": "af94dd54",
   "metadata": {},
   "outputs": [
    {
     "name": "stdout",
     "output_type": "stream",
     "text": [
      "+------+----------+---------+------+------------+---+\n",
      "|emp_id|first_name|last_name|salary|phone_number|age|\n",
      "+------+----------+---------+------+------------+---+\n",
      "|  1238|    suresh|    raina|  8000|       1639]| 39|\n",
      "|  1239|      hari|    haran|  9000|        1934| 43|\n",
      "|  1239|      hari|    haran|  9000|        1934| 43|\n",
      "|  1239|      hari|    haran|  9000|        1934| 43|\n",
      "+------+----------+---------+------+------------+---+\n",
      "\n"
     ]
    }
   ],
   "source": [
    "df1.filter(df1[\"age\"]>24).show() "
   ]
  },
  {
   "cell_type": "markdown",
   "id": "f4c79c15",
   "metadata": {},
   "source": [
    "# sort is used to sort the data based on specific columns, default is ascending order"
   ]
  },
  {
   "cell_type": "code",
   "execution_count": 229,
   "id": "f7c8e030",
   "metadata": {},
   "outputs": [
    {
     "data": {
      "text/plain": [
       "[Row(emp_id='1239', first_name='hari', last_name='haran', salary='9000', phone_number='1934', age='43'),\n",
       " Row(emp_id='1239', first_name='hari', last_name='haran', salary='9000', phone_number='1934', age='43'),\n",
       " Row(emp_id='1239', first_name='hari', last_name='haran', salary='9000', phone_number='1934', age='43'),\n",
       " Row(emp_id='1238', first_name='suresh', last_name='raina', salary='8000', phone_number='1639]', age='39'),\n",
       " Row(emp_id='1236', first_name='sri', last_name='krishna', salary='5000', phone_number='1434', age='24'),\n",
       " Row(emp_id='1237', first_name='rohit', last_name='sharma', salary='6000', phone_number='1539', age='23'),\n",
       " Row(emp_id='1235', first_name='ravi', last_name='kumar', salary='3000', phone_number='1239', age='21'),\n",
       " Row(emp_id='1234', first_name='hari', last_name='kiran', salary='2000', phone_number='1234', age='20')]"
      ]
     },
     "execution_count": 229,
     "metadata": {},
     "output_type": "execute_result"
    }
   ],
   "source": [
    " df1.sort(df1.age.desc()).collect()"
   ]
  },
  {
   "cell_type": "code",
   "execution_count": 231,
   "id": "f891f41c",
   "metadata": {},
   "outputs": [
    {
     "name": "stdout",
     "output_type": "stream",
     "text": [
      "+------+----------+---------+------+------------+---+\n",
      "|emp_id|first_name|last_name|salary|phone_number|age|\n",
      "+------+----------+---------+------+------------+---+\n",
      "|  1234|      hari|    kiran|  2000|        1234| 20|\n",
      "|  1235|      ravi|    kumar|  3000|        1239| 21|\n",
      "|  1237|     rohit|   sharma|  6000|        1539| 23|\n",
      "|  1236|       sri|  krishna|  5000|        1434| 24|\n",
      "|  1238|    suresh|    raina|  8000|       1639]| 39|\n",
      "|  1239|      hari|    haran|  9000|        1934| 43|\n",
      "|  1239|      hari|    haran|  9000|        1934| 43|\n",
      "|  1239|      hari|    haran|  9000|        1934| 43|\n",
      "+------+----------+---------+------+------------+---+\n",
      "\n"
     ]
    }
   ],
   "source": [
    "df1.sort(\"age\", ascending=True).show()"
   ]
  },
  {
   "cell_type": "markdown",
   "id": "01e1cc8f",
   "metadata": {},
   "source": [
    "# Assigment: Read the difference between show and collect"
   ]
  },
  {
   "cell_type": "code",
   "execution_count": 233,
   "id": "f0de3732",
   "metadata": {},
   "outputs": [],
   "source": [
    "df105 = spark.read.option(\"header\",True) \\\n",
    "     .csv(\"/Users/ravidevineni/PycharmProjects/project/emp_details.csv\")"
   ]
  },
  {
   "cell_type": "code",
   "execution_count": 234,
   "id": "d0175701",
   "metadata": {},
   "outputs": [
    {
     "name": "stdout",
     "output_type": "stream",
     "text": [
      "+------+----------+---------+------+------------+---+\n",
      "|emp_id|first_name|last_name|salary|phone_number|age|\n",
      "+------+----------+---------+------+------------+---+\n",
      "|  1234|      hari|    kiran|  2000|        1234| 20|\n",
      "|  1235|      ravi|    kumar|  3000|        1239| 21|\n",
      "|  1236|       sri|  krishna|  5000|        1434| 24|\n",
      "|  1237|     rohit|   sharma|  6000|        1539| 23|\n",
      "|  1238|    suresh|    raina|  8000|       1639]| 39|\n",
      "|  1239|      hari|    haran|  null|        1934| 43|\n",
      "|  1239|      hari|    haran|  9000|        1934| 43|\n",
      "|  1239|      hari|    haran|  9000|        1934| 43|\n",
      "+------+----------+---------+------+------------+---+\n",
      "\n"
     ]
    }
   ],
   "source": [
    "df105.show()"
   ]
  },
  {
   "cell_type": "markdown",
   "id": "283406d3",
   "metadata": {},
   "source": [
    "# na.fill or fillna is used to fill the null values of a dataframe with specific value"
   ]
  },
  {
   "cell_type": "code",
   "execution_count": 246,
   "id": "990c1281",
   "metadata": {},
   "outputs": [
    {
     "name": "stdout",
     "output_type": "stream",
     "text": [
      "+------+\n",
      "|salary|\n",
      "+------+\n",
      "|  2000|\n",
      "|  3000|\n",
      "|  5000|\n",
      "|  6000|\n",
      "|  8000|\n",
      "|    50|\n",
      "|  9000|\n",
      "|  9000|\n",
      "+------+\n",
      "\n"
     ]
    }
   ],
   "source": [
    "df105.select('salary').na.fill(value='50', subset=None).show()"
   ]
  },
  {
   "cell_type": "markdown",
   "id": "d7e9cd3d",
   "metadata": {},
   "source": [
    "# na.drop() will be used to drop the null values from the dataframe"
   ]
  },
  {
   "cell_type": "code",
   "execution_count": 237,
   "id": "667be668",
   "metadata": {},
   "outputs": [
    {
     "name": "stdout",
     "output_type": "stream",
     "text": [
      "+------+----------+---------+------+------------+---+\n",
      "|emp_id|first_name|last_name|salary|phone_number|age|\n",
      "+------+----------+---------+------+------------+---+\n",
      "|  1234|      hari|    kiran|  2000|        1234| 20|\n",
      "|  1235|      ravi|    kumar|  3000|        1239| 21|\n",
      "|  1236|       sri|  krishna|  5000|        1434| 24|\n",
      "|  1237|     rohit|   sharma|  6000|        1539| 23|\n",
      "|  1238|    suresh|    raina|  8000|       1639]| 39|\n",
      "|  1239|      hari|    haran|  9000|        1934| 43|\n",
      "|  1239|      hari|    haran|  9000|        1934| 43|\n",
      "+------+----------+---------+------+------------+---+\n",
      "\n"
     ]
    }
   ],
   "source": [
    "df105.na.drop().show()"
   ]
  },
  {
   "cell_type": "markdown",
   "id": "2c9a0663",
   "metadata": {},
   "source": [
    "## Tomorrow:\n",
    "- joins\n",
    "- udf\n",
    "- window functions\n",
    "- repartion and coalesce"
   ]
  },
  {
   "cell_type": "code",
   "execution_count": 7,
   "id": "15ea4c1a",
   "metadata": {},
   "outputs": [
    {
     "name": "stdout",
     "output_type": "stream",
     "text": [
      "+------+----------+---------+------+------------+---+\n",
      "|emp_id|first_name|last_name|salary|phone_number|age|\n",
      "+------+----------+---------+------+------------+---+\n",
      "|  1234|      hari|    kiran|  2000|        1234| 20|\n",
      "|  1235|      ravi|    kumar|  3000|        1239| 21|\n",
      "|  1236|       sri|  krishna|  5000|        1434| 24|\n",
      "|  1237|     rohit|   sharma|  6000|        1539| 23|\n",
      "|  1238|    suresh|    raina|  8000|       1639]| 39|\n",
      "|  1239|      hari|    haran|  null|        1934| 43|\n",
      "|  1239|      hari|    haran|  9000|        1934| 43|\n",
      "|  1239|      hari|    haran|  9000|        1934| 43|\n",
      "+------+----------+---------+------+------------+---+\n",
      "\n"
     ]
    }
   ],
   "source": [
    "df1.show()"
   ]
  },
  {
   "cell_type": "code",
   "execution_count": 8,
   "id": "454d1d93",
   "metadata": {},
   "outputs": [
    {
     "name": "stdout",
     "output_type": "stream",
     "text": [
      "+------+----------+\n",
      "|emp_id|department|\n",
      "+------+----------+\n",
      "|  1234|     dept1|\n",
      "|  1235|     dept2|\n",
      "|  1236|     dept1|\n",
      "|  1237|     dept2|\n",
      "|  1238|     dept1|\n",
      "|  1239|     dept1|\n",
      "+------+----------+\n",
      "\n"
     ]
    }
   ],
   "source": [
    "df2.show()"
   ]
  },
  {
   "cell_type": "code",
   "execution_count": 92,
   "id": "0c9af4ba",
   "metadata": {},
   "outputs": [
    {
     "name": "stdout",
     "output_type": "stream",
     "text": [
      "+------+----------+---------+------+------------+---+\n",
      "|emp_id|first_name|last_name|salary|phone_number|age|\n",
      "+------+----------+---------+------+------------+---+\n",
      "|  1234|      hari|    kiran|  2000|        1234| 20|\n",
      "|  1235|      ravi|    kumar|  3000|        1239| 21|\n",
      "|  1236|       sri|  krishna|  5000|        1434| 24|\n",
      "|  1237|     rohit|   sharma|  6000|        1539| 23|\n",
      "|  1238|    suresh|    raina|  8000|       1639]| 39|\n",
      "|  1239|      hari|    haran|  null|        1934| 43|\n",
      "|  1239|      hari|    haran|  9000|        1934| 43|\n",
      "|  1233|      hari|    haran|  9000|        1934| 43|\n",
      "|  1240|      hari|    haran|  9000|        1934| 43|\n",
      "|  1241|      hari|    haran|  9000|        1934| 43|\n",
      "|  1251|      hari|    haran|  9100|        1934| 43|\n",
      "|  1261|      hari|    haran|  9200|        1934| 43|\n",
      "+------+----------+---------+------+------------+---+\n",
      "\n"
     ]
    }
   ],
   "source": [
    "df1.show()"
   ]
  },
  {
   "cell_type": "code",
   "execution_count": 93,
   "id": "c44c7028",
   "metadata": {},
   "outputs": [
    {
     "name": "stdout",
     "output_type": "stream",
     "text": [
      "+------+----------+\n",
      "|emp_id|department|\n",
      "+------+----------+\n",
      "|  1234|     dept1|\n",
      "|  1235|     dept2|\n",
      "|  1236|     dept1|\n",
      "|  1237|     dept2|\n",
      "|  1238|     dept1|\n",
      "|  1239|     dept1|\n",
      "|  1233|     dept2|\n",
      "|  1240|     dept1|\n",
      "|  1241|     dept1|\n",
      "|  1251|     dept1|\n",
      "|  1261|     dept1|\n",
      "+------+----------+\n",
      "\n"
     ]
    }
   ],
   "source": [
    "df2.show()"
   ]
  },
  {
   "cell_type": "markdown",
   "id": "f4f7ccf6",
   "metadata": {},
   "source": [
    "## Joins"
   ]
  },
  {
   "cell_type": "code",
   "execution_count": 97,
   "id": "0e57b257",
   "metadata": {},
   "outputs": [],
   "source": [
    "\n",
    "df3 = df1.join(df2,df1.emp_id ==  df2.emp_id,\"inner\")\n"
   ]
  },
  {
   "cell_type": "code",
   "execution_count": 98,
   "id": "ded21ba3",
   "metadata": {},
   "outputs": [
    {
     "name": "stdout",
     "output_type": "stream",
     "text": [
      "+------+----------+---------+------+------------+---+------+----------+\n",
      "|emp_id|first_name|last_name|salary|phone_number|age|emp_id|department|\n",
      "+------+----------+---------+------+------------+---+------+----------+\n",
      "|  1234|      hari|    kiran|  2000|        1234| 20|  1234|     dept1|\n",
      "|  1235|      ravi|    kumar|  3000|        1239| 21|  1235|     dept2|\n",
      "|  1236|       sri|  krishna|  5000|        1434| 24|  1236|     dept1|\n",
      "|  1237|     rohit|   sharma|  6000|        1539| 23|  1237|     dept2|\n",
      "|  1238|    suresh|    raina|  8000|       1639]| 39|  1238|     dept1|\n",
      "|  1239|      hari|    haran|  null|        1934| 43|  1239|     dept1|\n",
      "|  1239|      hari|    haran|  9000|        1934| 43|  1239|     dept1|\n",
      "|  1233|      hari|    haran|  9000|        1934| 43|  1233|     dept2|\n",
      "|  1240|      hari|    haran|  9000|        1934| 43|  1240|     dept1|\n",
      "|  1241|      hari|    haran|  9000|        1934| 43|  1241|     dept1|\n",
      "|  1251|      hari|    haran|  9100|        1934| 43|  1251|     dept1|\n",
      "|  1261|      hari|    haran|  9200|        1934| 43|  1261|     dept1|\n",
      "+------+----------+---------+------+------------+---+------+----------+\n",
      "\n"
     ]
    }
   ],
   "source": [
    "df3.show()"
   ]
  },
  {
   "cell_type": "code",
   "execution_count": 105,
   "id": "aef3311f",
   "metadata": {},
   "outputs": [
    {
     "name": "stdout",
     "output_type": "stream",
     "text": [
      "+------+----------+---------+------+------------+---+------+----------+\n",
      "|emp_id|first_name|last_name|salary|phone_number|age|emp_id|department|\n",
      "+------+----------+---------+------+------------+---+------+----------+\n",
      "|1234  |hari      |kiran    |2000  |1234        |20 |1234  |dept1     |\n",
      "|1235  |ravi      |kumar    |3000  |1239        |21 |1235  |dept2     |\n",
      "|1236  |sri       |krishna  |5000  |1434        |24 |1236  |dept1     |\n",
      "|1237  |rohit     |sharma   |6000  |1539        |23 |1237  |dept2     |\n",
      "|1238  |suresh    |raina    |8000  |1639]       |39 |1238  |dept1     |\n",
      "|1239  |hari      |haran    |9000  |1934        |43 |1239  |dept1     |\n",
      "|1239  |hari      |haran    |null  |1934        |43 |1239  |dept1     |\n",
      "|1233  |hari      |haran    |9000  |1934        |43 |1233  |dept2     |\n",
      "|1240  |hari      |haran    |9000  |1934        |43 |1240  |dept1     |\n",
      "|1241  |hari      |haran    |9000  |1934        |43 |1241  |dept1     |\n",
      "|1251  |hari      |haran    |9100  |1934        |43 |1251  |dept1     |\n",
      "|1261  |hari      |haran    |9200  |1934        |43 |1261  |dept1     |\n",
      "+------+----------+---------+------+------------+---+------+----------+\n",
      "\n"
     ]
    }
   ],
   "source": [
    "\n",
    "df4 = df1.join(df2,df1.emp_id ==  df2.emp_id,\"rightouter\") \\\n",
    "     .show(truncate=False)"
   ]
  },
  {
   "cell_type": "code",
   "execution_count": 103,
   "id": "fb3710cc",
   "metadata": {},
   "outputs": [],
   "source": [
    "\n",
    "d5 = df1.join(df2,df1.emp_id ==  df2.emp_id,\"right\")"
   ]
  },
  {
   "cell_type": "markdown",
   "id": "1c838920",
   "metadata": {},
   "source": [
    "## User defined functions"
   ]
  },
  {
   "cell_type": "code",
   "execution_count": 76,
   "id": "f032fadf",
   "metadata": {},
   "outputs": [],
   "source": [
    "import pyspark.sql.types as T"
   ]
  },
  {
   "cell_type": "code",
   "execution_count": 161,
   "id": "c811b322",
   "metadata": {},
   "outputs": [],
   "source": [
    "@F.udf(T.IntegerType())\n",
    "def age_adder(age):\n",
    "    \"\"\"\n",
    "       add 1 to the age\n",
    "    \"\"\"\n",
    "    return age+10   \n",
    "    "
   ]
  },
  {
   "cell_type": "code",
   "execution_count": 152,
   "id": "6cee0ae4",
   "metadata": {},
   "outputs": [],
   "source": [
    "T.IntegerType()\n",
    "def add_salary(salary):\n",
    "    \"\"\"\n",
    "       add 1000 to the salary\n",
    "    \"\"\"\n",
    "    return salary + 1000"
   ]
  },
  {
   "cell_type": "code",
   "execution_count": null,
   "id": "e052eefd",
   "metadata": {},
   "outputs": [],
   "source": [
    "@F.udf(T.IntegerType())\n",
    "def add_salary(salary):\n",
    "    \"\"\"\n",
    "       add 1000 to the salary\n",
    "    \"\"\"\n",
    "    return salary + 1000"
   ]
  },
  {
   "cell_type": "code",
   "execution_count": 153,
   "id": "7010830c",
   "metadata": {},
   "outputs": [],
   "source": [
    "import pyspark.sql.types as T"
   ]
  },
  {
   "cell_type": "code",
   "execution_count": 154,
   "id": "8ee80893",
   "metadata": {},
   "outputs": [],
   "source": [
    "df7 = df1.withColumn(\"latest_salary\", add_salary(F.col('salary')))"
   ]
  },
  {
   "cell_type": "code",
   "execution_count": 155,
   "id": "7c35475e",
   "metadata": {},
   "outputs": [
    {
     "name": "stdout",
     "output_type": "stream",
     "text": [
      "+------+----------+---------+------+------------+---+-------------+\n",
      "|emp_id|first_name|last_name|salary|phone_number|age|latest_salary|\n",
      "+------+----------+---------+------+------------+---+-------------+\n",
      "|  1234|      hari|    kiran|  2000|        1234| 20|       3000.0|\n",
      "|  1235|      ravi|    kumar|  3000|        1239| 21|       4000.0|\n",
      "|  1236|       sri|  krishna|  5000|        1434| 24|       6000.0|\n",
      "|  1237|     rohit|   sharma|  6000|        1539| 23|       7000.0|\n",
      "|  1238|    suresh|    raina|  8000|       1639]| 39|       9000.0|\n",
      "|  1239|      hari|    haran|  null|        1934| 43|         null|\n",
      "|  1239|      hari|    haran|  9000|        1934| 43|      10000.0|\n",
      "|  1233|      hari|    haran|  9000|        1934| 43|      10000.0|\n",
      "|  1240|      hari|    haran|  9000|        1934| 43|      10000.0|\n",
      "|  1241|      hari|    haran|  9000|        1934| 43|      10000.0|\n",
      "|  1251|      hari|    haran|  9100|        1934| 43|      10100.0|\n",
      "|  1261|      hari|    haran|  9200|        1934| 43|      10200.0|\n",
      "+------+----------+---------+------+------------+---+-------------+\n",
      "\n"
     ]
    }
   ],
   "source": [
    "df7.show()"
   ]
  },
  {
   "cell_type": "code",
   "execution_count": 162,
   "id": "eaceb576",
   "metadata": {},
   "outputs": [],
   "source": [
    "df6 = df1.withColumn(\"age_add\", age_adder(F.col('age'))).drop('age')"
   ]
  },
  {
   "cell_type": "code",
   "execution_count": 163,
   "id": "634760aa",
   "metadata": {},
   "outputs": [],
   "source": [
    "df7 = df1.withColumn(\"age_add\", age_adder(F.col('age'))).drop('age')"
   ]
  },
  {
   "cell_type": "code",
   "execution_count": 115,
   "id": "0b8cd191",
   "metadata": {},
   "outputs": [
    {
     "name": "stdout",
     "output_type": "stream",
     "text": [
      "+------+----------+---------+------+------------+-------+\n",
      "|emp_id|first_name|last_name|salary|phone_number|age_add|\n",
      "+------+----------+---------+------+------------+-------+\n",
      "|  1234|      hari|    kiran|  2000|        1234|   30.0|\n",
      "|  1235|      ravi|    kumar|  3000|        1239|   31.0|\n",
      "|  1236|       sri|  krishna|  5000|        1434|   34.0|\n",
      "|  1237|     rohit|   sharma|  6000|        1539|   33.0|\n",
      "|  1238|    suresh|    raina|  8000|       1639]|   49.0|\n",
      "|  1239|      hari|    haran|  null|        1934|   53.0|\n",
      "|  1239|      hari|    haran|  9000|        1934|   53.0|\n",
      "|  1233|      hari|    haran|  9000|        1934|   53.0|\n",
      "|  1240|      hari|    haran|  9000|        1934|   53.0|\n",
      "|  1241|      hari|    haran|  9000|        1934|   53.0|\n",
      "|  1251|      hari|    haran|  9100|        1934|   53.0|\n",
      "|  1261|      hari|    haran|  9200|        1934|   53.0|\n",
      "+------+----------+---------+------+------------+-------+\n",
      "\n"
     ]
    }
   ],
   "source": [
    "df6.show()"
   ]
  },
  {
   "cell_type": "code",
   "execution_count": 110,
   "id": "ff61424e",
   "metadata": {},
   "outputs": [
    {
     "name": "stdout",
     "output_type": "stream",
     "text": [
      "+------+----------+---------+------+------------+---+\n",
      "|emp_id|first_name|last_name|salary|phone_number|age|\n",
      "+------+----------+---------+------+------------+---+\n",
      "|  1234|      hari|    kiran|  2000|        1234| 20|\n",
      "|  1235|      ravi|    kumar|  3000|        1239| 21|\n",
      "|  1236|       sri|  krishna|  5000|        1434| 24|\n",
      "|  1237|     rohit|   sharma|  6000|        1539| 23|\n",
      "|  1238|    suresh|    raina|  8000|       1639]| 39|\n",
      "|  1239|      hari|    haran|  null|        1934| 43|\n",
      "|  1239|      hari|    haran|  9000|        1934| 43|\n",
      "|  1233|      hari|    haran|  9000|        1934| 43|\n",
      "|  1240|      hari|    haran|  9000|        1934| 43|\n",
      "|  1241|      hari|    haran|  9000|        1934| 43|\n",
      "|  1251|      hari|    haran|  9100|        1934| 43|\n",
      "|  1261|      hari|    haran|  9200|        1934| 43|\n",
      "+------+----------+---------+------+------------+---+\n",
      "\n"
     ]
    }
   ],
   "source": [
    "df1.show()"
   ]
  },
  {
   "cell_type": "code",
   "execution_count": 81,
   "id": "01255ac0",
   "metadata": {},
   "outputs": [
    {
     "data": {
      "text/plain": [
       "DataFrame[emp_id: string, first_name: string, last_name: string, salary: string, phone_number: string, age_add: double]"
      ]
     },
     "execution_count": 81,
     "metadata": {},
     "output_type": "execute_result"
    }
   ],
   "source": [
    "df6.repartition(10)"
   ]
  },
  {
   "cell_type": "code",
   "execution_count": 82,
   "id": "0ba15bb3",
   "metadata": {},
   "outputs": [
    {
     "data": {
      "text/plain": [
       "DataFrame[emp_id: string, first_name: string, last_name: string, salary: string, phone_number: string, age_add: double]"
      ]
     },
     "execution_count": 82,
     "metadata": {},
     "output_type": "execute_result"
    }
   ],
   "source": [
    "df6.coalesce(10)"
   ]
  },
  {
   "cell_type": "code",
   "execution_count": 83,
   "id": "7e26746b",
   "metadata": {},
   "outputs": [],
   "source": [
    "from pyspark.sql.window import Window\n",
    "from pyspark.sql.functions import row_number\n",
    "\n"
   ]
  },
  {
   "cell_type": "code",
   "execution_count": 84,
   "id": "717f25d1",
   "metadata": {},
   "outputs": [],
   "source": [
    "windowSpec  = Window.partitionBy(\"department\").orderBy(\"salary\")"
   ]
  },
  {
   "cell_type": "code",
   "execution_count": 157,
   "id": "d8bdd209",
   "metadata": {},
   "outputs": [
    {
     "name": "stdout",
     "output_type": "stream",
     "text": [
      "+------+----------+---------+------+------------+---+------+----------+\n",
      "|emp_id|first_name|last_name|salary|phone_number|age|emp_id|department|\n",
      "+------+----------+---------+------+------------+---+------+----------+\n",
      "|  1234|      hari|    kiran|  2000|        1234| 20|  1234|     dept1|\n",
      "|  1235|      ravi|    kumar|  3000|        1239| 21|  1235|     dept2|\n",
      "|  1236|       sri|  krishna|  5000|        1434| 24|  1236|     dept1|\n",
      "|  1237|     rohit|   sharma|  6000|        1539| 23|  1237|     dept2|\n",
      "|  1238|    suresh|    raina|  8000|       1639]| 39|  1238|     dept1|\n",
      "|  1239|      hari|    haran|  9000|        1934| 43|  1239|     dept1|\n",
      "|  1239|      hari|    haran|  null|        1934| 43|  1239|     dept1|\n",
      "|  1233|      hari|    haran|  9000|        1934| 43|  1233|     dept2|\n",
      "|  1240|      hari|    haran|  9000|        1934| 43|  1240|     dept1|\n",
      "|  1241|      hari|    haran|  9000|        1934| 43|  1241|     dept1|\n",
      "|  1251|      hari|    haran|  9100|        1934| 43|  1251|     dept1|\n",
      "|  1261|      hari|    haran|  9200|        1934| 43|  1261|     dept1|\n",
      "+------+----------+---------+------+------------+---+------+----------+\n",
      "\n"
     ]
    }
   ],
   "source": [
    "d5.show()"
   ]
  },
  {
   "cell_type": "code",
   "execution_count": 85,
   "id": "7e978b69",
   "metadata": {},
   "outputs": [
    {
     "name": "stdout",
     "output_type": "stream",
     "text": [
      "+------+----------+---------+------+------------+---+------+----------+----------+\n",
      "|emp_id|first_name|last_name|salary|phone_number|age|emp_id|department|row_number|\n",
      "+------+----------+---------+------+------------+---+------+----------+----------+\n",
      "|1239  |hari      |haran    |null  |1934        |43 |1239  |dept1     |1         |\n",
      "|1234  |hari      |kiran    |2000  |1234        |20 |1234  |dept1     |2         |\n",
      "|1236  |sri       |krishna  |5000  |1434        |24 |1236  |dept1     |3         |\n",
      "|1238  |suresh    |raina    |8000  |1639]       |39 |1238  |dept1     |4         |\n",
      "|1239  |hari      |haran    |9000  |1934        |43 |1239  |dept1     |5         |\n",
      "|1240  |hari      |haran    |9000  |1934        |43 |1240  |dept1     |6         |\n",
      "|1241  |hari      |haran    |9000  |1934        |43 |1241  |dept1     |7         |\n",
      "|1251  |hari      |haran    |9100  |1934        |43 |1251  |dept1     |8         |\n",
      "|1261  |hari      |haran    |9200  |1934        |43 |1261  |dept1     |9         |\n",
      "|1235  |ravi      |kumar    |3000  |1239        |21 |1235  |dept2     |1         |\n",
      "|1237  |rohit     |sharma   |6000  |1539        |23 |1237  |dept2     |2         |\n",
      "|1233  |hari      |haran    |9000  |1934        |43 |1233  |dept2     |3         |\n",
      "+------+----------+---------+------+------------+---+------+----------+----------+\n",
      "\n"
     ]
    }
   ],
   "source": [
    "d5.withColumn(\"row_number\",row_number().over(windowSpec)) \\\n",
    "    .show(truncate=False)"
   ]
  },
  {
   "cell_type": "code",
   "execution_count": 158,
   "id": "b961b3e6",
   "metadata": {},
   "outputs": [
    {
     "name": "stdout",
     "output_type": "stream",
     "text": [
      "+------+----------+---------+------+------------+---+------+----------+----+\n",
      "|emp_id|first_name|last_name|salary|phone_number|age|emp_id|department|rank|\n",
      "+------+----------+---------+------+------------+---+------+----------+----+\n",
      "|  1239|      hari|    haran|  null|        1934| 43|  1239|     dept1|   1|\n",
      "|  1234|      hari|    kiran|  2000|        1234| 20|  1234|     dept1|   2|\n",
      "|  1236|       sri|  krishna|  5000|        1434| 24|  1236|     dept1|   3|\n",
      "|  1238|    suresh|    raina|  8000|       1639]| 39|  1238|     dept1|   4|\n",
      "|  1239|      hari|    haran|  9000|        1934| 43|  1239|     dept1|   5|\n",
      "|  1240|      hari|    haran|  9000|        1934| 43|  1240|     dept1|   5|\n",
      "|  1241|      hari|    haran|  9000|        1934| 43|  1241|     dept1|   5|\n",
      "|  1251|      hari|    haran|  9100|        1934| 43|  1251|     dept1|   8|\n",
      "|  1261|      hari|    haran|  9200|        1934| 43|  1261|     dept1|   9|\n",
      "|  1235|      ravi|    kumar|  3000|        1239| 21|  1235|     dept2|   1|\n",
      "|  1237|     rohit|   sharma|  6000|        1539| 23|  1237|     dept2|   2|\n",
      "|  1233|      hari|    haran|  9000|        1934| 43|  1233|     dept2|   3|\n",
      "+------+----------+---------+------+------------+---+------+----------+----+\n",
      "\n",
      "+------+----------+---------+------+------------+---+------+----------+----------+\n",
      "|emp_id|first_name|last_name|salary|phone_number|age|emp_id|department|dense_rank|\n",
      "+------+----------+---------+------+------------+---+------+----------+----------+\n",
      "|  1239|      hari|    haran|  null|        1934| 43|  1239|     dept1|         1|\n",
      "|  1234|      hari|    kiran|  2000|        1234| 20|  1234|     dept1|         2|\n",
      "|  1236|       sri|  krishna|  5000|        1434| 24|  1236|     dept1|         3|\n",
      "|  1238|    suresh|    raina|  8000|       1639]| 39|  1238|     dept1|         4|\n",
      "|  1239|      hari|    haran|  9000|        1934| 43|  1239|     dept1|         5|\n",
      "|  1240|      hari|    haran|  9000|        1934| 43|  1240|     dept1|         5|\n",
      "|  1241|      hari|    haran|  9000|        1934| 43|  1241|     dept1|         5|\n",
      "|  1251|      hari|    haran|  9100|        1934| 43|  1251|     dept1|         6|\n",
      "|  1261|      hari|    haran|  9200|        1934| 43|  1261|     dept1|         7|\n",
      "|  1235|      ravi|    kumar|  3000|        1239| 21|  1235|     dept2|         1|\n",
      "|  1237|     rohit|   sharma|  6000|        1539| 23|  1237|     dept2|         2|\n",
      "|  1233|      hari|    haran|  9000|        1934| 43|  1233|     dept2|         3|\n",
      "+------+----------+---------+------+------------+---+------+----------+----------+\n",
      "\n"
     ]
    }
   ],
   "source": [
    "\n",
    "\n",
    "from pyspark.sql.functions import rank\n",
    "d5.withColumn(\"rank\",rank().over(windowSpec)) \\\n",
    "    .show()\n",
    "\n",
    "from pyspark.sql.functions import dense_rank\n",
    "d5.withColumn(\"dense_rank\",dense_rank().over(windowSpec)) \\\n",
    "    .show()"
   ]
  },
  {
   "cell_type": "code",
   "execution_count": 156,
   "id": "38bbcd7c",
   "metadata": {},
   "outputs": [],
   "source": [
    "d5_cached = d5.cache()"
   ]
  },
  {
   "cell_type": "code",
   "execution_count": 90,
   "id": "640d8448",
   "metadata": {},
   "outputs": [],
   "source": [
    "windowSpecAgg  = Window.partitionBy(\"department\")"
   ]
  },
  {
   "cell_type": "code",
   "execution_count": 91,
   "id": "003ca8ea",
   "metadata": {},
   "outputs": [
    {
     "name": "stdout",
     "output_type": "stream",
     "text": [
      "+----------+------+-------+----+----+\n",
      "|department|   avg|    sum| min| max|\n",
      "+----------+------+-------+----+----+\n",
      "|     dept1|7537.5|60300.0|2000|9200|\n",
      "|     dept2|6000.0|18000.0|3000|9000|\n",
      "+----------+------+-------+----+----+\n",
      "\n"
     ]
    }
   ],
   "source": [
    "from pyspark.sql.functions import col,avg,sum,min,max,row_number \n",
    "d5.withColumn(\"row\",row_number().over(windowSpec)) \\\n",
    "  .withColumn(\"avg\", avg(col(\"salary\")).over(windowSpecAgg)) \\\n",
    "  .withColumn(\"sum\", sum(col(\"salary\")).over(windowSpecAgg)) \\\n",
    "  .withColumn(\"min\", min(col(\"salary\")).over(windowSpecAgg)) \\\n",
    "  .withColumn(\"max\", max(col(\"salary\")).over(windowSpecAgg)) \\\n",
    "  .where(col(\"row\")==1).select(\"department\",\"avg\",\"sum\",\"min\",\"max\") \\\n",
    "  .show()"
   ]
  },
  {
   "cell_type": "markdown",
   "id": "33f67369",
   "metadata": {},
   "source": [
    "## Assignment: Memory profiler"
   ]
  },
  {
   "cell_type": "code",
   "execution_count": null,
   "id": "2dba985b",
   "metadata": {},
   "outputs": [],
   "source": []
  }
 ],
 "metadata": {
  "kernelspec": {
   "display_name": "Python 3",
   "language": "python",
   "name": "python3"
  },
  "language_info": {
   "codemirror_mode": {
    "name": "ipython",
    "version": 3
   },
   "file_extension": ".py",
   "mimetype": "text/x-python",
   "name": "python",
   "nbconvert_exporter": "python",
   "pygments_lexer": "ipython3",
   "version": "3.8.8"
  }
 },
 "nbformat": 4,
 "nbformat_minor": 5
}
